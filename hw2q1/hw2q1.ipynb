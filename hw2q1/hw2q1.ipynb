{
  "cells": [
    {
      "cell_type": "markdown",
      "metadata": {
        "id": "CD2iqy5ko8Ji"
      },
      "source": [
        "# Assignment 2 Question 1. Contrastive Language-Image Pretrained (CLIP) Model in Retinal Diagnosis"
      ]
    },
    {
      "cell_type": "code",
      "execution_count": 1,
      "metadata": {
        "colab": {
          "base_uri": "https://localhost:8080/"
        },
        "id": "5SDUF4pIplmA",
        "outputId": "b24d50a8-cf16-4e55-90ea-5977b62ffc92"
      },
      "outputs": [
        {
          "name": "stdout",
          "output_type": "stream",
          "text": [
            "Mounted at /content/drive\n"
          ]
        }
      ],
      "source": [
        "from google.colab import drive\n",
        "drive.mount('/content/drive')"
      ]
    },
    {
      "cell_type": "code",
      "execution_count": 82,
      "metadata": {
        "colab": {
          "base_uri": "https://localhost:8080/",
          "height": 1000
        },
        "id": "Z0rr4JNDZljw",
        "outputId": "63a46aae-e846-4604-cb08-f3ccff78b87d"
      },
      "outputs": [
        {
          "name": "stdout",
          "output_type": "stream",
          "text": [
            "Found existing installation: numpy 1.26.0\n",
            "Uninstalling numpy-1.26.0:\n",
            "  Would remove:\n",
            "    /usr/local/bin/f2py\n",
            "    /usr/local/lib/python3.11/dist-packages/numpy-1.26.0.dist-info/*\n",
            "    /usr/local/lib/python3.11/dist-packages/numpy.libs/libgfortran-040039e1.so.5.0.0\n",
            "    /usr/local/lib/python3.11/dist-packages/numpy.libs/libopenblas64_p-r0-0cf96a72.3.23.dev.so\n",
            "    /usr/local/lib/python3.11/dist-packages/numpy.libs/libquadmath-96973f99.so.0.0.0\n",
            "    /usr/local/lib/python3.11/dist-packages/numpy/*\n",
            "Proceed (Y/n)? Y\n",
            "  Successfully uninstalled numpy-1.26.0\n",
            "Found existing installation: torch 2.6.0\n",
            "Uninstalling torch-2.6.0:\n",
            "  Would remove:\n",
            "    /usr/local/bin/torchfrtrace\n",
            "    /usr/local/bin/torchrun\n",
            "    /usr/local/lib/python3.11/dist-packages/functorch/*\n",
            "    /usr/local/lib/python3.11/dist-packages/torch-2.6.0.dist-info/*\n",
            "    /usr/local/lib/python3.11/dist-packages/torch/*\n",
            "    /usr/local/lib/python3.11/dist-packages/torchgen/*\n",
            "Proceed (Y/n)? Y\n",
            "  Successfully uninstalled torch-2.6.0\n",
            "Collecting numpy==1.26.0\n",
            "  Downloading numpy-1.26.0-cp311-cp311-manylinux_2_17_x86_64.manylinux2014_x86_64.whl.metadata (58 kB)\n",
            "\u001b[2K     \u001b[90m━━━━━━━━━━━━━━━━━━━━━━━━━━━━━━━━━━━━━━━━\u001b[0m \u001b[32m58.5/58.5 kB\u001b[0m \u001b[31m10.0 MB/s\u001b[0m eta \u001b[36m0:00:00\u001b[0m\n",
            "\u001b[?25hDownloading numpy-1.26.0-cp311-cp311-manylinux_2_17_x86_64.manylinux2014_x86_64.whl (18.2 MB)\n",
            "\u001b[2K   \u001b[90m━━━━━━━━━━━━━━━━━━━━━━━━━━━━━━━━━━━━━━━━\u001b[0m \u001b[32m18.2/18.2 MB\u001b[0m \u001b[31m307.7 MB/s\u001b[0m eta \u001b[36m0:00:00\u001b[0m\n",
            "\u001b[?25hInstalling collected packages: numpy\n",
            "\u001b[31mERROR: pip's dependency resolver does not currently take into account all the packages that are installed. This behaviour is the source of the following dependency conflicts.\n",
            "transformer-smaller-training-vocab 0.4.0 requires torch!=2.0.1,<3.0.0,>=1.8.0, which is not installed.\n",
            "flair 0.15.1 requires torch>=1.13.1, which is not installed.\n",
            "pytorch-revgrad 0.2.0 requires torch>=1.0.0, which is not installed.\n",
            "accelerate 1.5.2 requires torch>=2.0.0, which is not installed.\n",
            "sentence-transformers 3.4.1 requires torch>=1.11.0, which is not installed.\n",
            "peft 0.14.0 requires torch>=1.13.0, which is not installed.\n",
            "fastai 2.7.19 requires torch<2.7,>=1.10, which is not installed.\n",
            "torchvision 0.21.0+cu124 requires torch==2.6.0, which is not installed.\u001b[0m\u001b[31m\n",
            "\u001b[0mSuccessfully installed numpy-1.26.0\n",
            "Collecting torch\n",
            "  Using cached torch-2.6.0-cp311-cp311-manylinux1_x86_64.whl.metadata (28 kB)\n",
            "Requirement already satisfied: filelock in /usr/local/lib/python3.11/dist-packages (from torch) (3.18.0)\n",
            "Requirement already satisfied: typing-extensions>=4.10.0 in /usr/local/lib/python3.11/dist-packages (from torch) (4.12.2)\n",
            "Requirement already satisfied: networkx in /usr/local/lib/python3.11/dist-packages (from torch) (3.4.2)\n",
            "Requirement already satisfied: jinja2 in /usr/local/lib/python3.11/dist-packages (from torch) (3.1.6)\n",
            "Requirement already satisfied: fsspec in /usr/local/lib/python3.11/dist-packages (from torch) (2025.3.0)\n",
            "Requirement already satisfied: nvidia-cuda-nvrtc-cu12==12.4.127 in /usr/local/lib/python3.11/dist-packages (from torch) (12.4.127)\n",
            "Requirement already satisfied: nvidia-cuda-runtime-cu12==12.4.127 in /usr/local/lib/python3.11/dist-packages (from torch) (12.4.127)\n",
            "Requirement already satisfied: nvidia-cuda-cupti-cu12==12.4.127 in /usr/local/lib/python3.11/dist-packages (from torch) (12.4.127)\n",
            "Requirement already satisfied: nvidia-cudnn-cu12==9.1.0.70 in /usr/local/lib/python3.11/dist-packages (from torch) (9.1.0.70)\n",
            "Requirement already satisfied: nvidia-cublas-cu12==12.4.5.8 in /usr/local/lib/python3.11/dist-packages (from torch) (12.4.5.8)\n",
            "Requirement already satisfied: nvidia-cufft-cu12==11.2.1.3 in /usr/local/lib/python3.11/dist-packages (from torch) (11.2.1.3)\n",
            "Requirement already satisfied: nvidia-curand-cu12==10.3.5.147 in /usr/local/lib/python3.11/dist-packages (from torch) (10.3.5.147)\n",
            "Requirement already satisfied: nvidia-cusolver-cu12==11.6.1.9 in /usr/local/lib/python3.11/dist-packages (from torch) (11.6.1.9)\n",
            "Requirement already satisfied: nvidia-cusparse-cu12==12.3.1.170 in /usr/local/lib/python3.11/dist-packages (from torch) (12.3.1.170)\n",
            "Requirement already satisfied: nvidia-cusparselt-cu12==0.6.2 in /usr/local/lib/python3.11/dist-packages (from torch) (0.6.2)\n",
            "Requirement already satisfied: nvidia-nccl-cu12==2.21.5 in /usr/local/lib/python3.11/dist-packages (from torch) (2.21.5)\n",
            "Requirement already satisfied: nvidia-nvtx-cu12==12.4.127 in /usr/local/lib/python3.11/dist-packages (from torch) (12.4.127)\n",
            "Requirement already satisfied: nvidia-nvjitlink-cu12==12.4.127 in /usr/local/lib/python3.11/dist-packages (from torch) (12.4.127)\n",
            "Requirement already satisfied: triton==3.2.0 in /usr/local/lib/python3.11/dist-packages (from torch) (3.2.0)\n",
            "Requirement already satisfied: sympy==1.13.1 in /usr/local/lib/python3.11/dist-packages (from torch) (1.13.1)\n",
            "Requirement already satisfied: mpmath<1.4,>=1.1.0 in /usr/local/lib/python3.11/dist-packages (from sympy==1.13.1->torch) (1.3.0)\n",
            "Requirement already satisfied: MarkupSafe>=2.0 in /usr/local/lib/python3.11/dist-packages (from jinja2->torch) (3.0.2)\n",
            "Using cached torch-2.6.0-cp311-cp311-manylinux1_x86_64.whl (766.7 MB)\n",
            "Installing collected packages: torch\n",
            "Successfully installed torch-2.6.0\n"
          ]
        },
        {
          "data": {
            "application/vnd.colab-display-data+json": {
              "id": "c4c1e0d5a17a42368d0d32dc85674370",
              "pip_warning": {
                "packages": [
                  "torch",
                  "torchgen"
                ]
              }
            }
          },
          "metadata": {},
          "output_type": "display_data"
        }
      ],
      "source": [
        "!pip uninstall numpy torch\n",
        "!pip install --no-cache-dir numpy==1.26.0\n",
        "!pip install torch"
      ]
    },
    {
      "cell_type": "code",
      "execution_count": 3,
      "metadata": {
        "colab": {
          "base_uri": "https://localhost:8080/"
        },
        "id": "kpwHlSzhZ7-w",
        "outputId": "3a099282-4348-45b4-96ad-3c7c53e70039"
      },
      "outputs": [
        {
          "name": "stdout",
          "output_type": "stream",
          "text": [
            "Requirement already satisfied: numpy==1.26.0 in /usr/local/lib/python3.11/dist-packages (1.26.0)\n"
          ]
        }
      ],
      "source": [
        "!pip install --no-cache-dir numpy==1.26.0"
      ]
    },
    {
      "cell_type": "code",
      "execution_count": 4,
      "metadata": {
        "colab": {
          "base_uri": "https://localhost:8080/"
        },
        "id": "P9W6I_9f719E",
        "outputId": "95908be4-871e-42a5-82b5-2370f546389b"
      },
      "outputs": [
        {
          "name": "stdout",
          "output_type": "stream",
          "text": [
            "Found existing installation: numpy 1.26.0\n",
            "Uninstalling numpy-1.26.0:\n",
            "  Successfully uninstalled numpy-1.26.0\n",
            "Found existing installation: tensorflow 2.18.0\n",
            "Uninstalling tensorflow-2.18.0:\n",
            "  Successfully uninstalled tensorflow-2.18.0\n",
            "Found existing installation: numba 0.60.0\n",
            "Uninstalling numba-0.60.0:\n",
            "  Successfully uninstalled numba-0.60.0\n",
            "Found existing installation: transformers 4.50.0\n",
            "Uninstalling transformers-4.50.0:\n",
            "  Successfully uninstalled transformers-4.50.0\n",
            "Collecting numpy==1.26.0\n",
            "  Downloading numpy-1.26.0-cp311-cp311-manylinux_2_17_x86_64.manylinux2014_x86_64.whl.metadata (58 kB)\n",
            "\u001b[2K     \u001b[90m━━━━━━━━━━━━━━━━━━━━━━━━━━━━━━━━━━━━━━━━\u001b[0m \u001b[32m58.5/58.5 kB\u001b[0m \u001b[31m8.1 MB/s\u001b[0m eta \u001b[36m0:00:00\u001b[0m\n",
            "\u001b[?25hDownloading numpy-1.26.0-cp311-cp311-manylinux_2_17_x86_64.manylinux2014_x86_64.whl (18.2 MB)\n",
            "\u001b[2K   \u001b[90m━━━━━━━━━━━━━━━━━━━━━━━━━━━━━━━━━━━━━━━━\u001b[0m \u001b[32m18.2/18.2 MB\u001b[0m \u001b[31m193.1 MB/s\u001b[0m eta \u001b[36m0:00:00\u001b[0m\n",
            "\u001b[?25hInstalling collected packages: numpy\n",
            "\u001b[31mERROR: pip's dependency resolver does not currently take into account all the packages that are installed. This behaviour is the source of the following dependency conflicts.\n",
            "dopamine-rl 4.1.2 requires tensorflow>=2.2.0, which is not installed.\n",
            "librosa 0.11.0 requires numba>=0.51.0, which is not installed.\n",
            "sentence-transformers 3.4.1 requires transformers<5.0.0,>=4.41.0, which is not installed.\n",
            "cuml-cu12 25.2.1 requires numba<0.61.0a0,>=0.59.1, which is not installed.\n",
            "peft 0.14.0 requires transformers, which is not installed.\n",
            "umap-learn 0.5.7 requires numba>=0.51.2, which is not installed.\n",
            "dask-cuda 25.2.0 requires numba<0.61.0a0,>=0.59.1, which is not installed.\n",
            "cudf-cu12 25.2.1 requires numba<0.61.0a0,>=0.59.1, which is not installed.\n",
            "pynndescent 0.5.13 requires numba>=0.51.2, which is not installed.\n",
            "shap 0.47.0 requires numba>=0.54, which is not installed.\u001b[0m\u001b[31m\n",
            "\u001b[0mSuccessfully installed numpy-1.26.0\n",
            "Collecting transformers==4.41.0\n",
            "  Downloading transformers-4.41.0-py3-none-any.whl.metadata (43 kB)\n",
            "\u001b[2K     \u001b[90m━━━━━━━━━━━━━━━━━━━━━━━━━━━━━━━━━━━━━━━━\u001b[0m \u001b[32m43.8/43.8 kB\u001b[0m \u001b[31m2.5 MB/s\u001b[0m eta \u001b[36m0:00:00\u001b[0m\n",
            "\u001b[?25hRequirement already satisfied: filelock in /usr/local/lib/python3.11/dist-packages (from transformers==4.41.0) (3.18.0)\n",
            "Requirement already satisfied: huggingface-hub<1.0,>=0.23.0 in /usr/local/lib/python3.11/dist-packages (from transformers==4.41.0) (0.29.3)\n",
            "Requirement already satisfied: numpy>=1.17 in /usr/local/lib/python3.11/dist-packages (from transformers==4.41.0) (1.26.0)\n",
            "Requirement already satisfied: packaging>=20.0 in /usr/local/lib/python3.11/dist-packages (from transformers==4.41.0) (24.2)\n",
            "Requirement already satisfied: pyyaml>=5.1 in /usr/local/lib/python3.11/dist-packages (from transformers==4.41.0) (6.0.2)\n",
            "Requirement already satisfied: regex!=2019.12.17 in /usr/local/lib/python3.11/dist-packages (from transformers==4.41.0) (2024.11.6)\n",
            "Requirement already satisfied: requests in /usr/local/lib/python3.11/dist-packages (from transformers==4.41.0) (2.32.3)\n",
            "Collecting tokenizers<0.20,>=0.19 (from transformers==4.41.0)\n",
            "  Downloading tokenizers-0.19.1-cp311-cp311-manylinux_2_17_x86_64.manylinux2014_x86_64.whl.metadata (6.7 kB)\n",
            "Requirement already satisfied: safetensors>=0.4.1 in /usr/local/lib/python3.11/dist-packages (from transformers==4.41.0) (0.5.3)\n",
            "Requirement already satisfied: tqdm>=4.27 in /usr/local/lib/python3.11/dist-packages (from transformers==4.41.0) (4.67.1)\n",
            "Requirement already satisfied: fsspec>=2023.5.0 in /usr/local/lib/python3.11/dist-packages (from huggingface-hub<1.0,>=0.23.0->transformers==4.41.0) (2025.3.0)\n",
            "Requirement already satisfied: typing-extensions>=3.7.4.3 in /usr/local/lib/python3.11/dist-packages (from huggingface-hub<1.0,>=0.23.0->transformers==4.41.0) (4.12.2)\n",
            "Requirement already satisfied: charset-normalizer<4,>=2 in /usr/local/lib/python3.11/dist-packages (from requests->transformers==4.41.0) (3.4.1)\n",
            "Requirement already satisfied: idna<4,>=2.5 in /usr/local/lib/python3.11/dist-packages (from requests->transformers==4.41.0) (3.10)\n",
            "Requirement already satisfied: urllib3<3,>=1.21.1 in /usr/local/lib/python3.11/dist-packages (from requests->transformers==4.41.0) (2.3.0)\n",
            "Requirement already satisfied: certifi>=2017.4.17 in /usr/local/lib/python3.11/dist-packages (from requests->transformers==4.41.0) (2025.1.31)\n",
            "Downloading transformers-4.41.0-py3-none-any.whl (9.1 MB)\n",
            "\u001b[2K   \u001b[90m━━━━━━━━━━━━━━━━━━━━━━━━━━━━━━━━━━━━━━━━\u001b[0m \u001b[32m9.1/9.1 MB\u001b[0m \u001b[31m95.1 MB/s\u001b[0m eta \u001b[36m0:00:00\u001b[0m\n",
            "\u001b[?25hDownloading tokenizers-0.19.1-cp311-cp311-manylinux_2_17_x86_64.manylinux2014_x86_64.whl (3.6 MB)\n",
            "\u001b[2K   \u001b[90m━━━━━━━━━━━━━━━━━━━━━━━━━━━━━━━━━━━━━━━━\u001b[0m \u001b[32m3.6/3.6 MB\u001b[0m \u001b[31m106.8 MB/s\u001b[0m eta \u001b[36m0:00:00\u001b[0m\n",
            "\u001b[?25hInstalling collected packages: tokenizers, transformers\n",
            "  Attempting uninstall: tokenizers\n",
            "    Found existing installation: tokenizers 0.21.1\n",
            "    Uninstalling tokenizers-0.21.1:\n",
            "      Successfully uninstalled tokenizers-0.21.1\n",
            "Successfully installed tokenizers-0.19.1 transformers-4.41.0\n",
            "Collecting tensorflow==2.18.0\n",
            "  Downloading tensorflow-2.18.0-cp311-cp311-manylinux_2_17_x86_64.manylinux2014_x86_64.whl.metadata (4.1 kB)\n",
            "Collecting numba==0.60.0\n",
            "  Downloading numba-0.60.0-cp311-cp311-manylinux2014_x86_64.manylinux_2_17_x86_64.whl.metadata (2.7 kB)\n",
            "Requirement already satisfied: absl-py>=1.0.0 in /usr/local/lib/python3.11/dist-packages (from tensorflow==2.18.0) (1.4.0)\n",
            "Requirement already satisfied: astunparse>=1.6.0 in /usr/local/lib/python3.11/dist-packages (from tensorflow==2.18.0) (1.6.3)\n",
            "Requirement already satisfied: flatbuffers>=24.3.25 in /usr/local/lib/python3.11/dist-packages (from tensorflow==2.18.0) (25.2.10)\n",
            "Requirement already satisfied: gast!=0.5.0,!=0.5.1,!=0.5.2,>=0.2.1 in /usr/local/lib/python3.11/dist-packages (from tensorflow==2.18.0) (0.6.0)\n",
            "Requirement already satisfied: google-pasta>=0.1.1 in /usr/local/lib/python3.11/dist-packages (from tensorflow==2.18.0) (0.2.0)\n",
            "Requirement already satisfied: libclang>=13.0.0 in /usr/local/lib/python3.11/dist-packages (from tensorflow==2.18.0) (18.1.1)\n",
            "Requirement already satisfied: opt-einsum>=2.3.2 in /usr/local/lib/python3.11/dist-packages (from tensorflow==2.18.0) (3.4.0)\n",
            "Requirement already satisfied: packaging in /usr/local/lib/python3.11/dist-packages (from tensorflow==2.18.0) (24.2)\n",
            "Requirement already satisfied: protobuf!=4.21.0,!=4.21.1,!=4.21.2,!=4.21.3,!=4.21.4,!=4.21.5,<6.0.0dev,>=3.20.3 in /usr/local/lib/python3.11/dist-packages (from tensorflow==2.18.0) (5.29.4)\n",
            "Requirement already satisfied: requests<3,>=2.21.0 in /usr/local/lib/python3.11/dist-packages (from tensorflow==2.18.0) (2.32.3)\n",
            "Requirement already satisfied: setuptools in /usr/local/lib/python3.11/dist-packages (from tensorflow==2.18.0) (75.1.0)\n",
            "Requirement already satisfied: six>=1.12.0 in /usr/local/lib/python3.11/dist-packages (from tensorflow==2.18.0) (1.17.0)\n",
            "Requirement already satisfied: termcolor>=1.1.0 in /usr/local/lib/python3.11/dist-packages (from tensorflow==2.18.0) (2.5.0)\n",
            "Requirement already satisfied: typing-extensions>=3.6.6 in /usr/local/lib/python3.11/dist-packages (from tensorflow==2.18.0) (4.12.2)\n",
            "Requirement already satisfied: wrapt>=1.11.0 in /usr/local/lib/python3.11/dist-packages (from tensorflow==2.18.0) (1.17.2)\n",
            "Requirement already satisfied: grpcio<2.0,>=1.24.3 in /usr/local/lib/python3.11/dist-packages (from tensorflow==2.18.0) (1.71.0)\n",
            "Requirement already satisfied: tensorboard<2.19,>=2.18 in /usr/local/lib/python3.11/dist-packages (from tensorflow==2.18.0) (2.18.0)\n",
            "Requirement already satisfied: keras>=3.5.0 in /usr/local/lib/python3.11/dist-packages (from tensorflow==2.18.0) (3.8.0)\n",
            "Requirement already satisfied: numpy<2.1.0,>=1.26.0 in /usr/local/lib/python3.11/dist-packages (from tensorflow==2.18.0) (1.26.0)\n",
            "Requirement already satisfied: h5py>=3.11.0 in /usr/local/lib/python3.11/dist-packages (from tensorflow==2.18.0) (3.13.0)\n",
            "Requirement already satisfied: ml-dtypes<0.5.0,>=0.4.0 in /usr/local/lib/python3.11/dist-packages (from tensorflow==2.18.0) (0.4.1)\n",
            "Requirement already satisfied: tensorflow-io-gcs-filesystem>=0.23.1 in /usr/local/lib/python3.11/dist-packages (from tensorflow==2.18.0) (0.37.1)\n",
            "Requirement already satisfied: llvmlite<0.44,>=0.43.0dev0 in /usr/local/lib/python3.11/dist-packages (from numba==0.60.0) (0.43.0)\n",
            "Requirement already satisfied: wheel<1.0,>=0.23.0 in /usr/local/lib/python3.11/dist-packages (from astunparse>=1.6.0->tensorflow==2.18.0) (0.45.1)\n",
            "Requirement already satisfied: rich in /usr/local/lib/python3.11/dist-packages (from keras>=3.5.0->tensorflow==2.18.0) (13.9.4)\n",
            "Requirement already satisfied: namex in /usr/local/lib/python3.11/dist-packages (from keras>=3.5.0->tensorflow==2.18.0) (0.0.8)\n",
            "Requirement already satisfied: optree in /usr/local/lib/python3.11/dist-packages (from keras>=3.5.0->tensorflow==2.18.0) (0.14.1)\n",
            "Requirement already satisfied: charset-normalizer<4,>=2 in /usr/local/lib/python3.11/dist-packages (from requests<3,>=2.21.0->tensorflow==2.18.0) (3.4.1)\n",
            "Requirement already satisfied: idna<4,>=2.5 in /usr/local/lib/python3.11/dist-packages (from requests<3,>=2.21.0->tensorflow==2.18.0) (3.10)\n",
            "Requirement already satisfied: urllib3<3,>=1.21.1 in /usr/local/lib/python3.11/dist-packages (from requests<3,>=2.21.0->tensorflow==2.18.0) (2.3.0)\n",
            "Requirement already satisfied: certifi>=2017.4.17 in /usr/local/lib/python3.11/dist-packages (from requests<3,>=2.21.0->tensorflow==2.18.0) (2025.1.31)\n",
            "Requirement already satisfied: markdown>=2.6.8 in /usr/local/lib/python3.11/dist-packages (from tensorboard<2.19,>=2.18->tensorflow==2.18.0) (3.7)\n",
            "Requirement already satisfied: tensorboard-data-server<0.8.0,>=0.7.0 in /usr/local/lib/python3.11/dist-packages (from tensorboard<2.19,>=2.18->tensorflow==2.18.0) (0.7.2)\n",
            "Requirement already satisfied: werkzeug>=1.0.1 in /usr/local/lib/python3.11/dist-packages (from tensorboard<2.19,>=2.18->tensorflow==2.18.0) (3.1.3)\n",
            "Requirement already satisfied: MarkupSafe>=2.1.1 in /usr/local/lib/python3.11/dist-packages (from werkzeug>=1.0.1->tensorboard<2.19,>=2.18->tensorflow==2.18.0) (3.0.2)\n",
            "Requirement already satisfied: markdown-it-py>=2.2.0 in /usr/local/lib/python3.11/dist-packages (from rich->keras>=3.5.0->tensorflow==2.18.0) (3.0.0)\n",
            "Requirement already satisfied: pygments<3.0.0,>=2.13.0 in /usr/local/lib/python3.11/dist-packages (from rich->keras>=3.5.0->tensorflow==2.18.0) (2.18.0)\n",
            "Requirement already satisfied: mdurl~=0.1 in /usr/local/lib/python3.11/dist-packages (from markdown-it-py>=2.2.0->rich->keras>=3.5.0->tensorflow==2.18.0) (0.1.2)\n",
            "Downloading tensorflow-2.18.0-cp311-cp311-manylinux_2_17_x86_64.manylinux2014_x86_64.whl (615.4 MB)\n",
            "\u001b[2K   \u001b[90m━━━━━━━━━━━━━━━━━━━━━━━━━━━━━━━━━━━━━━━━\u001b[0m \u001b[32m615.4/615.4 MB\u001b[0m \u001b[31m3.2 MB/s\u001b[0m eta \u001b[36m0:00:00\u001b[0m\n",
            "\u001b[?25hDownloading numba-0.60.0-cp311-cp311-manylinux2014_x86_64.manylinux_2_17_x86_64.whl (3.7 MB)\n",
            "\u001b[2K   \u001b[90m━━━━━━━━━━━━━━━━━━━━━━━━━━━━━━━━━━━━━━━━\u001b[0m \u001b[32m3.7/3.7 MB\u001b[0m \u001b[31m91.9 MB/s\u001b[0m eta \u001b[36m0:00:00\u001b[0m\n",
            "\u001b[?25hInstalling collected packages: numba, tensorflow\n",
            "Successfully installed numba-0.60.0 tensorflow-2.18.0\n"
          ]
        }
      ],
      "source": [
        "!pip uninstall -y numpy tensorflow numba transformers\n",
        "!pip install --no-cache-dir numpy==1.26.0\n",
        "!pip install transformers==4.41.0\n",
        "!pip install tensorflow==2.18.0 numba==0.60.0"
      ]
    },
    {
      "cell_type": "code",
      "execution_count": 1,
      "metadata": {
        "colab": {
          "base_uri": "https://localhost:8080/"
        },
        "id": "qMXB51QV06mv",
        "outputId": "2e6d0b38-c9ec-425e-b04e-eb82c2255476"
      },
      "outputs": [
        {
          "name": "stdout",
          "output_type": "stream",
          "text": [
            "Requirement already satisfied: flair in /usr/local/lib/python3.11/dist-packages (0.15.1)\n",
            "Requirement already satisfied: boto3>=1.20.27 in /usr/local/lib/python3.11/dist-packages (from flair) (1.37.22)\n",
            "Requirement already satisfied: conllu<5.0.0,>=4.0 in /usr/local/lib/python3.11/dist-packages (from flair) (4.5.3)\n",
            "Requirement already satisfied: deprecated>=1.2.13 in /usr/local/lib/python3.11/dist-packages (from flair) (1.2.18)\n",
            "Requirement already satisfied: ftfy>=6.1.0 in /usr/local/lib/python3.11/dist-packages (from flair) (6.3.1)\n",
            "Requirement already satisfied: gdown>=4.4.0 in /usr/local/lib/python3.11/dist-packages (from flair) (5.2.0)\n",
            "Requirement already satisfied: huggingface-hub>=0.10.0 in /usr/local/lib/python3.11/dist-packages (from flair) (0.29.3)\n",
            "Requirement already satisfied: langdetect>=1.0.9 in /usr/local/lib/python3.11/dist-packages (from flair) (1.0.9)\n",
            "Requirement already satisfied: lxml>=4.8.0 in /usr/local/lib/python3.11/dist-packages (from flair) (5.3.1)\n",
            "Requirement already satisfied: matplotlib>=2.2.3 in /usr/local/lib/python3.11/dist-packages (from flair) (3.10.0)\n",
            "Requirement already satisfied: more-itertools>=8.13.0 in /usr/local/lib/python3.11/dist-packages (from flair) (10.6.0)\n",
            "Requirement already satisfied: mpld3>=0.3 in /usr/local/lib/python3.11/dist-packages (from flair) (0.5.10)\n",
            "Requirement already satisfied: pptree>=3.1 in /usr/local/lib/python3.11/dist-packages (from flair) (3.1)\n",
            "Requirement already satisfied: python-dateutil>=2.8.2 in /usr/local/lib/python3.11/dist-packages (from flair) (2.8.2)\n",
            "Requirement already satisfied: pytorch-revgrad>=0.2.0 in /usr/local/lib/python3.11/dist-packages (from flair) (0.2.0)\n",
            "Requirement already satisfied: regex>=2022.1.18 in /usr/local/lib/python3.11/dist-packages (from flair) (2024.11.6)\n",
            "Requirement already satisfied: scikit-learn>=1.0.2 in /usr/local/lib/python3.11/dist-packages (from flair) (1.6.1)\n",
            "Requirement already satisfied: segtok>=1.5.11 in /usr/local/lib/python3.11/dist-packages (from flair) (1.5.11)\n",
            "Requirement already satisfied: sqlitedict>=2.0.0 in /usr/local/lib/python3.11/dist-packages (from flair) (2.1.0)\n",
            "Requirement already satisfied: tabulate>=0.8.10 in /usr/local/lib/python3.11/dist-packages (from flair) (0.9.0)\n",
            "Requirement already satisfied: torch>=1.13.1 in /usr/local/lib/python3.11/dist-packages (from flair) (2.6.0)\n",
            "Requirement already satisfied: tqdm>=4.63.0 in /usr/local/lib/python3.11/dist-packages (from flair) (4.67.1)\n",
            "Requirement already satisfied: transformer-smaller-training-vocab>=0.2.3 in /usr/local/lib/python3.11/dist-packages (from flair) (0.4.0)\n",
            "Requirement already satisfied: transformers<5.0.0,>=4.25.0 in /usr/local/lib/python3.11/dist-packages (from transformers[sentencepiece]<5.0.0,>=4.25.0->flair) (4.41.0)\n",
            "Requirement already satisfied: wikipedia-api>=0.5.7 in /usr/local/lib/python3.11/dist-packages (from flair) (0.8.1)\n",
            "Requirement already satisfied: bioc<3.0.0,>=2.0.0 in /usr/local/lib/python3.11/dist-packages (from flair) (2.1)\n",
            "Requirement already satisfied: jsonlines>=1.2.0 in /usr/local/lib/python3.11/dist-packages (from bioc<3.0.0,>=2.0.0->flair) (4.0.0)\n",
            "Requirement already satisfied: intervaltree in /usr/local/lib/python3.11/dist-packages (from bioc<3.0.0,>=2.0.0->flair) (3.1.0)\n",
            "Requirement already satisfied: docopt in /usr/local/lib/python3.11/dist-packages (from bioc<3.0.0,>=2.0.0->flair) (0.6.2)\n",
            "Requirement already satisfied: botocore<1.38.0,>=1.37.22 in /usr/local/lib/python3.11/dist-packages (from boto3>=1.20.27->flair) (1.37.22)\n",
            "Requirement already satisfied: jmespath<2.0.0,>=0.7.1 in /usr/local/lib/python3.11/dist-packages (from boto3>=1.20.27->flair) (1.0.1)\n",
            "Requirement already satisfied: s3transfer<0.12.0,>=0.11.0 in /usr/local/lib/python3.11/dist-packages (from boto3>=1.20.27->flair) (0.11.4)\n",
            "Requirement already satisfied: wrapt<2,>=1.10 in /usr/local/lib/python3.11/dist-packages (from deprecated>=1.2.13->flair) (1.17.2)\n",
            "Requirement already satisfied: wcwidth in /usr/local/lib/python3.11/dist-packages (from ftfy>=6.1.0->flair) (0.2.13)\n",
            "Requirement already satisfied: beautifulsoup4 in /usr/local/lib/python3.11/dist-packages (from gdown>=4.4.0->flair) (4.13.3)\n",
            "Requirement already satisfied: filelock in /usr/local/lib/python3.11/dist-packages (from gdown>=4.4.0->flair) (3.18.0)\n",
            "Requirement already satisfied: requests[socks] in /usr/local/lib/python3.11/dist-packages (from gdown>=4.4.0->flair) (2.32.3)\n",
            "Requirement already satisfied: fsspec>=2023.5.0 in /usr/local/lib/python3.11/dist-packages (from huggingface-hub>=0.10.0->flair) (2025.3.0)\n",
            "Requirement already satisfied: packaging>=20.9 in /usr/local/lib/python3.11/dist-packages (from huggingface-hub>=0.10.0->flair) (24.2)\n",
            "Requirement already satisfied: pyyaml>=5.1 in /usr/local/lib/python3.11/dist-packages (from huggingface-hub>=0.10.0->flair) (6.0.2)\n",
            "Requirement already satisfied: typing-extensions>=3.7.4.3 in /usr/local/lib/python3.11/dist-packages (from huggingface-hub>=0.10.0->flair) (4.12.2)\n",
            "Requirement already satisfied: six in /usr/local/lib/python3.11/dist-packages (from langdetect>=1.0.9->flair) (1.17.0)\n",
            "Requirement already satisfied: contourpy>=1.0.1 in /usr/local/lib/python3.11/dist-packages (from matplotlib>=2.2.3->flair) (1.3.1)\n",
            "Requirement already satisfied: cycler>=0.10 in /usr/local/lib/python3.11/dist-packages (from matplotlib>=2.2.3->flair) (0.12.1)\n",
            "Requirement already satisfied: fonttools>=4.22.0 in /usr/local/lib/python3.11/dist-packages (from matplotlib>=2.2.3->flair) (4.56.0)\n",
            "Requirement already satisfied: kiwisolver>=1.3.1 in /usr/local/lib/python3.11/dist-packages (from matplotlib>=2.2.3->flair) (1.4.8)\n",
            "Requirement already satisfied: numpy>=1.23 in /usr/local/lib/python3.11/dist-packages (from matplotlib>=2.2.3->flair) (1.26.0)\n",
            "Requirement already satisfied: pillow>=8 in /usr/local/lib/python3.11/dist-packages (from matplotlib>=2.2.3->flair) (11.1.0)\n",
            "Requirement already satisfied: pyparsing>=2.3.1 in /usr/local/lib/python3.11/dist-packages (from matplotlib>=2.2.3->flair) (3.2.1)\n",
            "Requirement already satisfied: jinja2 in /usr/local/lib/python3.11/dist-packages (from mpld3>=0.3->flair) (3.1.6)\n",
            "Requirement already satisfied: scipy>=1.6.0 in /usr/local/lib/python3.11/dist-packages (from scikit-learn>=1.0.2->flair) (1.14.1)\n",
            "Requirement already satisfied: joblib>=1.2.0 in /usr/local/lib/python3.11/dist-packages (from scikit-learn>=1.0.2->flair) (1.4.2)\n",
            "Requirement already satisfied: threadpoolctl>=3.1.0 in /usr/local/lib/python3.11/dist-packages (from scikit-learn>=1.0.2->flair) (3.6.0)\n",
            "Requirement already satisfied: networkx in /usr/local/lib/python3.11/dist-packages (from torch>=1.13.1->flair) (3.4.2)\n",
            "Requirement already satisfied: nvidia-cuda-nvrtc-cu12==12.4.127 in /usr/local/lib/python3.11/dist-packages (from torch>=1.13.1->flair) (12.4.127)\n",
            "Requirement already satisfied: nvidia-cuda-runtime-cu12==12.4.127 in /usr/local/lib/python3.11/dist-packages (from torch>=1.13.1->flair) (12.4.127)\n",
            "Requirement already satisfied: nvidia-cuda-cupti-cu12==12.4.127 in /usr/local/lib/python3.11/dist-packages (from torch>=1.13.1->flair) (12.4.127)\n",
            "Requirement already satisfied: nvidia-cudnn-cu12==9.1.0.70 in /usr/local/lib/python3.11/dist-packages (from torch>=1.13.1->flair) (9.1.0.70)\n",
            "Requirement already satisfied: nvidia-cublas-cu12==12.4.5.8 in /usr/local/lib/python3.11/dist-packages (from torch>=1.13.1->flair) (12.4.5.8)\n",
            "Requirement already satisfied: nvidia-cufft-cu12==11.2.1.3 in /usr/local/lib/python3.11/dist-packages (from torch>=1.13.1->flair) (11.2.1.3)\n",
            "Requirement already satisfied: nvidia-curand-cu12==10.3.5.147 in /usr/local/lib/python3.11/dist-packages (from torch>=1.13.1->flair) (10.3.5.147)\n",
            "Requirement already satisfied: nvidia-cusolver-cu12==11.6.1.9 in /usr/local/lib/python3.11/dist-packages (from torch>=1.13.1->flair) (11.6.1.9)\n",
            "Requirement already satisfied: nvidia-cusparse-cu12==12.3.1.170 in /usr/local/lib/python3.11/dist-packages (from torch>=1.13.1->flair) (12.3.1.170)\n",
            "Requirement already satisfied: nvidia-cusparselt-cu12==0.6.2 in /usr/local/lib/python3.11/dist-packages (from torch>=1.13.1->flair) (0.6.2)\n",
            "Requirement already satisfied: nvidia-nccl-cu12==2.21.5 in /usr/local/lib/python3.11/dist-packages (from torch>=1.13.1->flair) (2.21.5)\n",
            "Requirement already satisfied: nvidia-nvtx-cu12==12.4.127 in /usr/local/lib/python3.11/dist-packages (from torch>=1.13.1->flair) (12.4.127)\n",
            "Requirement already satisfied: nvidia-nvjitlink-cu12==12.4.127 in /usr/local/lib/python3.11/dist-packages (from torch>=1.13.1->flair) (12.4.127)\n",
            "Requirement already satisfied: triton==3.2.0 in /usr/local/lib/python3.11/dist-packages (from torch>=1.13.1->flair) (3.2.0)\n",
            "Requirement already satisfied: sympy==1.13.1 in /usr/local/lib/python3.11/dist-packages (from torch>=1.13.1->flair) (1.13.1)\n",
            "Requirement already satisfied: mpmath<1.4,>=1.1.0 in /usr/local/lib/python3.11/dist-packages (from sympy==1.13.1->torch>=1.13.1->flair) (1.3.0)\n",
            "Requirement already satisfied: tokenizers<0.20,>=0.19 in /usr/local/lib/python3.11/dist-packages (from transformers<5.0.0,>=4.25.0->transformers[sentencepiece]<5.0.0,>=4.25.0->flair) (0.19.1)\n",
            "Requirement already satisfied: safetensors>=0.4.1 in /usr/local/lib/python3.11/dist-packages (from transformers<5.0.0,>=4.25.0->transformers[sentencepiece]<5.0.0,>=4.25.0->flair) (0.5.3)\n",
            "Requirement already satisfied: sentencepiece!=0.1.92,>=0.1.91 in /usr/local/lib/python3.11/dist-packages (from transformers[sentencepiece]<5.0.0,>=4.25.0->flair) (0.2.0)\n",
            "Requirement already satisfied: protobuf in /usr/local/lib/python3.11/dist-packages (from transformers[sentencepiece]<5.0.0,>=4.25.0->flair) (5.29.4)\n",
            "Requirement already satisfied: urllib3!=2.2.0,<3,>=1.25.4 in /usr/local/lib/python3.11/dist-packages (from botocore<1.38.0,>=1.37.22->boto3>=1.20.27->flair) (2.3.0)\n",
            "Requirement already satisfied: attrs>=19.2.0 in /usr/local/lib/python3.11/dist-packages (from jsonlines>=1.2.0->bioc<3.0.0,>=2.0.0->flair) (25.3.0)\n",
            "Requirement already satisfied: accelerate>=0.21.0 in /usr/local/lib/python3.11/dist-packages (from transformers[sentencepiece,torch]<5.0,>=4.1->transformer-smaller-training-vocab>=0.2.3->flair) (1.5.2)\n",
            "Requirement already satisfied: soupsieve>1.2 in /usr/local/lib/python3.11/dist-packages (from beautifulsoup4->gdown>=4.4.0->flair) (2.6)\n",
            "Requirement already satisfied: sortedcontainers<3.0,>=2.0 in /usr/local/lib/python3.11/dist-packages (from intervaltree->bioc<3.0.0,>=2.0.0->flair) (2.4.0)\n",
            "Requirement already satisfied: MarkupSafe>=2.0 in /usr/local/lib/python3.11/dist-packages (from jinja2->mpld3>=0.3->flair) (3.0.2)\n",
            "Requirement already satisfied: charset-normalizer<4,>=2 in /usr/local/lib/python3.11/dist-packages (from requests[socks]->gdown>=4.4.0->flair) (3.4.1)\n",
            "Requirement already satisfied: idna<4,>=2.5 in /usr/local/lib/python3.11/dist-packages (from requests[socks]->gdown>=4.4.0->flair) (3.10)\n",
            "Requirement already satisfied: certifi>=2017.4.17 in /usr/local/lib/python3.11/dist-packages (from requests[socks]->gdown>=4.4.0->flair) (2025.1.31)\n",
            "Requirement already satisfied: PySocks!=1.5.7,>=1.5.6 in /usr/local/lib/python3.11/dist-packages (from requests[socks]->gdown>=4.4.0->flair) (1.7.1)\n",
            "Requirement already satisfied: psutil in /usr/local/lib/python3.11/dist-packages (from accelerate>=0.21.0->transformers[sentencepiece,torch]<5.0,>=4.1->transformer-smaller-training-vocab>=0.2.3->flair) (5.9.5)\n"
          ]
        }
      ],
      "source": [
        "!pip install flair"
      ]
    },
    {
      "cell_type": "code",
      "execution_count": 2,
      "metadata": {
        "colab": {
          "base_uri": "https://localhost:8080/"
        },
        "id": "IIUoNyOB11eU",
        "outputId": "0199b573-88f3-4abb-cffe-3f38e2937ed1"
      },
      "outputs": [
        {
          "name": "stdout",
          "output_type": "stream",
          "text": [
            "Requirement already satisfied: kornia in /usr/local/lib/python3.11/dist-packages (0.8.0)\n",
            "Requirement already satisfied: kornia_rs>=0.1.0 in /usr/local/lib/python3.11/dist-packages (from kornia) (0.1.8)\n",
            "Requirement already satisfied: packaging in /usr/local/lib/python3.11/dist-packages (from kornia) (24.2)\n",
            "Requirement already satisfied: torch>=1.9.1 in /usr/local/lib/python3.11/dist-packages (from kornia) (2.6.0)\n",
            "Requirement already satisfied: filelock in /usr/local/lib/python3.11/dist-packages (from torch>=1.9.1->kornia) (3.18.0)\n",
            "Requirement already satisfied: typing-extensions>=4.10.0 in /usr/local/lib/python3.11/dist-packages (from torch>=1.9.1->kornia) (4.12.2)\n",
            "Requirement already satisfied: networkx in /usr/local/lib/python3.11/dist-packages (from torch>=1.9.1->kornia) (3.4.2)\n",
            "Requirement already satisfied: jinja2 in /usr/local/lib/python3.11/dist-packages (from torch>=1.9.1->kornia) (3.1.6)\n",
            "Requirement already satisfied: fsspec in /usr/local/lib/python3.11/dist-packages (from torch>=1.9.1->kornia) (2025.3.0)\n",
            "Requirement already satisfied: nvidia-cuda-nvrtc-cu12==12.4.127 in /usr/local/lib/python3.11/dist-packages (from torch>=1.9.1->kornia) (12.4.127)\n",
            "Requirement already satisfied: nvidia-cuda-runtime-cu12==12.4.127 in /usr/local/lib/python3.11/dist-packages (from torch>=1.9.1->kornia) (12.4.127)\n",
            "Requirement already satisfied: nvidia-cuda-cupti-cu12==12.4.127 in /usr/local/lib/python3.11/dist-packages (from torch>=1.9.1->kornia) (12.4.127)\n",
            "Requirement already satisfied: nvidia-cudnn-cu12==9.1.0.70 in /usr/local/lib/python3.11/dist-packages (from torch>=1.9.1->kornia) (9.1.0.70)\n",
            "Requirement already satisfied: nvidia-cublas-cu12==12.4.5.8 in /usr/local/lib/python3.11/dist-packages (from torch>=1.9.1->kornia) (12.4.5.8)\n",
            "Requirement already satisfied: nvidia-cufft-cu12==11.2.1.3 in /usr/local/lib/python3.11/dist-packages (from torch>=1.9.1->kornia) (11.2.1.3)\n",
            "Requirement already satisfied: nvidia-curand-cu12==10.3.5.147 in /usr/local/lib/python3.11/dist-packages (from torch>=1.9.1->kornia) (10.3.5.147)\n",
            "Requirement already satisfied: nvidia-cusolver-cu12==11.6.1.9 in /usr/local/lib/python3.11/dist-packages (from torch>=1.9.1->kornia) (11.6.1.9)\n",
            "Requirement already satisfied: nvidia-cusparse-cu12==12.3.1.170 in /usr/local/lib/python3.11/dist-packages (from torch>=1.9.1->kornia) (12.3.1.170)\n",
            "Requirement already satisfied: nvidia-cusparselt-cu12==0.6.2 in /usr/local/lib/python3.11/dist-packages (from torch>=1.9.1->kornia) (0.6.2)\n",
            "Requirement already satisfied: nvidia-nccl-cu12==2.21.5 in /usr/local/lib/python3.11/dist-packages (from torch>=1.9.1->kornia) (2.21.5)\n",
            "Requirement already satisfied: nvidia-nvtx-cu12==12.4.127 in /usr/local/lib/python3.11/dist-packages (from torch>=1.9.1->kornia) (12.4.127)\n",
            "Requirement already satisfied: nvidia-nvjitlink-cu12==12.4.127 in /usr/local/lib/python3.11/dist-packages (from torch>=1.9.1->kornia) (12.4.127)\n",
            "Requirement already satisfied: triton==3.2.0 in /usr/local/lib/python3.11/dist-packages (from torch>=1.9.1->kornia) (3.2.0)\n",
            "Requirement already satisfied: sympy==1.13.1 in /usr/local/lib/python3.11/dist-packages (from torch>=1.9.1->kornia) (1.13.1)\n",
            "Requirement already satisfied: mpmath<1.4,>=1.1.0 in /usr/local/lib/python3.11/dist-packages (from sympy==1.13.1->torch>=1.9.1->kornia) (1.3.0)\n",
            "Requirement already satisfied: MarkupSafe>=2.0 in /usr/local/lib/python3.11/dist-packages (from jinja2->torch>=1.9.1->kornia) (3.0.2)\n"
          ]
        }
      ],
      "source": [
        "!pip install kornia"
      ]
    },
    {
      "cell_type": "code",
      "execution_count": null,
      "metadata": {
        "id": "0xP3WSCfqJO0"
      },
      "outputs": [],
      "source": [
        "import os\n",
        "os.chdir('/content/drive/MyDrive/elec4840/Code_Template_new/Q1') #Change to main directory Q1"
      ]
    },
    {
      "cell_type": "code",
      "execution_count": 4,
      "metadata": {
        "id": "9RTy5lpbo8Jk",
        "pycharm": {
          "is_executing": true
        }
      },
      "outputs": [],
      "source": [
        "def set_seeds(seed_value, use_cuda):\n",
        "    np.random.seed(seed_value)\n",
        "    torch.manual_seed(seed_value)\n",
        "    random.seed(seed_value)\n",
        "    if use_cuda:\n",
        "        torch.cuda.manual_seed(seed_value)\n",
        "        torch.cuda.manual_seed_all(seed_value)\n",
        "        torch.backends.cudnn.deterministic = True\n",
        "        torch.backends.cudnn.benchmark = False"
      ]
    },
    {
      "cell_type": "code",
      "execution_count": 5,
      "metadata": {
        "id": "ez3rhz5no8Jl"
      },
      "outputs": [],
      "source": [
        "import torch\n",
        "from model import FLAIRModel\n",
        "from data.dataloader import get_dataloader_splits\n",
        "from tqdm import tqdm\n",
        "import numpy as np\n",
        "import os\n",
        "import random\n",
        "import warnings\n",
        "warnings.filterwarnings(\"ignore\")\n",
        "\n",
        "set_seeds(42, use_cuda=torch.cuda.is_available())"
      ]
    },
    {
      "cell_type": "code",
      "execution_count": null,
      "metadata": {
        "colab": {
          "base_uri": "https://localhost:8080/"
        },
        "id": "ztVf75EHwF5c",
        "outputId": "a2d69d10-cd0d-4c79-f1b7-6f915b6a55d2"
      },
      "outputs": [
        {
          "name": "stdout",
          "output_type": "stream",
          "text": [
            "✅ Total image files found: 1748\n"
          ]
        }
      ],
      "source": [
        "unzipped_dir = \"/content/drive/MyDrive/elec4840/Code_Template_new/Q1/IMAGES\" #dataset path\n",
        "all_files = os.listdir(unzipped_dir)\n",
        "\n",
        "\n",
        "image_files = [f for f in all_files if f.lower().endswith(('.png', '.jpg', '.jpeg'))]\n",
        "\n",
        "print(f\"✅ Total image files found: {len(image_files)}\")"
      ]
    },
    {
      "cell_type": "code",
      "execution_count": null,
      "metadata": {
        "colab": {
          "base_uri": "https://localhost:8080/"
        },
        "id": "7Fd45qgKwcNo",
        "outputId": "25b12af2-facc-49c6-fefd-702a31c70207"
      },
      "outputs": [
        {
          "name": "stdout",
          "output_type": "stream",
          "text": [
            "🔍 Missing images: 0\n",
            "✅ All images listed in the CSV are found in the folder.\n"
          ]
        }
      ],
      "source": [
        "import pandas as pd\n",
        "\n",
        "df = pd.read_csv(\"/content/drive/MyDrive/elec4840/Code_Template_new/Q1/02_MESSIDOR.csv\") #csv file path\n",
        "csv_images = df[\"image\"].apply(lambda x: os.path.basename(x)).tolist()\n",
        "\n",
        "missing = [img for img in csv_images if img not in image_files]\n",
        "\n",
        "print(f\"🔍 Missing images: {len(missing)}\")\n",
        "if missing:\n",
        "    print(\"⛔️ Example missing files:\", missing[:5])\n",
        "else:\n",
        "    print(\"✅ All images listed in the CSV are found in the folder.\")"
      ]
    },
    {
      "cell_type": "markdown",
      "metadata": {
        "id": "Z7hgQUdgo8Jl"
      },
      "source": [
        "## Get classification target and data splits."
      ]
    },
    {
      "cell_type": "code",
      "execution_count": 7,
      "metadata": {
        "id": "nf1NeEY_o8Jm"
      },
      "outputs": [],
      "source": [
        "targets={\"no diabetic retinopathy\": 0,\n",
        "        \"mild diabetic retinopathy\": 1,\n",
        "        \"moderate diabetic retinopathy\": 2,\n",
        "        \"severe diabetic retinopathy\": 3,\n",
        "        \"proliferative diabetic retinopathy\": 4}\n",
        "\n",
        "loaders = get_dataloader_splits(\"./02_MESSIDOR.csv\", \"./IMAGES/\", targets,\n",
        "                                     shots_train=\"60%\", shots_val=\"10%\",\n",
        "                                     shots_test=\"30%\", balance=False,\n",
        "                                     batch_size=4, num_workers=4, seed=42,\n",
        "                                     task=\"classification\", size= (512, 512),\n",
        "                                     resize_canvas=False, batch_size_test=4)\n"
      ]
    },
    {
      "cell_type": "markdown",
      "metadata": {
        "id": "9V4_adDJo8Jm"
      },
      "source": [
        "## Define the CLIP Model\n",
        "\n",
        "### Subtask 1: Text Encoder Construction.\n",
        "- Please fill out the forward function of the class: TextModel in model.py to complete the textual feature extractor\n",
        "- Please fill out the compute_text_embeddings function of the class: FLAIRModel in model.py to extract the text features"
      ]
    },
    {
      "cell_type": "code",
      "execution_count": null,
      "metadata": {
        "colab": {
          "base_uri": "https://localhost:8080/"
        },
        "collapsed": true,
        "id": "GdZeehTnBk3M",
        "outputId": "e51fc1e0-6d8b-446b-f75e-948dbae259d2"
      },
      "outputs": [
        {
          "name": "stdout",
          "output_type": "stream",
          "text": [
            "/usr/local/lib/python3.11/dist-packages/gdown/__main__.py:140: FutureWarning: Option `--id` was deprecated in version 4.3.1 and will be removed in 5.0. You don't need to pass it anymore to use a file ID.\n",
            "  warnings.warn(\n",
            "Downloading...\n",
            "From (original): https://drive.google.com/uc?id=1l24_2IzwQdnaa034I0zcyDLs_zMujsbR\n",
            "From (redirected): https://drive.google.com/uc?id=1l24_2IzwQdnaa034I0zcyDLs_zMujsbR&confirm=t&uuid=8c239e81-7ad4-4fbd-91c0-de8c4277e9ac\n",
            "To: /content/drive/MyDrive/elec4840/Code_Template_new/Q1/flair_resnet.zip\n",
            "100% 495M/495M [00:10<00:00, 47.5MB/s]\n"
          ]
        }
      ],
      "source": [
        "!gdown --id 1l24_2IzwQdnaa034I0zcyDLs_zMujsbR"
      ]
    },
    {
      "cell_type": "code",
      "execution_count": 8,
      "metadata": {
        "colab": {
          "base_uri": "https://localhost:8080/"
        },
        "id": "DIgNze3oo8Jm",
        "outputId": "67c0a9e0-2c97-4e87-825f-0e1be96b920a"
      },
      "outputs": [
        {
          "name": "stdout",
          "output_type": "stream",
          "text": [
            "Pretrained weights: IMAGENET1K_V1\n",
            "load model weight from: ./flair_pretrained_weights/flair_resnet.pth\n",
            "Missing keys: []\n",
            "Unexpected keys: []\n"
          ]
        }
      ],
      "source": [
        "model = FLAIRModel(from_checkpoint=True, weights_path=None,\n",
        "                           projection=True, norm_features=True,\n",
        "                           vision_pretrained=True)\n",
        "model=model.to('cuda')"
      ]
    },
    {
      "cell_type": "markdown",
      "metadata": {
        "id": "8oRjUfLJo8Jm"
      },
      "source": [
        "## Extract the text feature\n",
        "Since the target text labels are a fixed set, we extract them all at once, instead of repeatedly forward the text encoder."
      ]
    },
    {
      "cell_type": "code",
      "execution_count": 9,
      "metadata": {
        "id": "NLJ0s_QVo8Jm"
      },
      "outputs": [],
      "source": [
        "\n",
        "class_labels = list(targets.keys())\n",
        "\n",
        "text_embeds_dict, text_embeds = model.compute_text_embeddings(\n",
        "        categories=class_labels,\n",
        "        domain_knowledge=True\n",
        "    )"
      ]
    },
    {
      "cell_type": "markdown",
      "metadata": {
        "id": "qyyQm8IAo8Jn"
      },
      "source": [
        "## Extract the image feature"
      ]
    },
    {
      "cell_type": "code",
      "execution_count": 10,
      "metadata": {
        "colab": {
          "base_uri": "https://localhost:8080/"
        },
        "id": "pjcWVnoVo8Jn",
        "outputId": "50e999d7-6a8d-4da3-c6af-71356a60b62a"
      },
      "outputs": [
        {
          "name": "stderr",
          "output_type": "stream",
          "text": [
            "Extracting features (131 / 131 Steps): 100%|██████████| 131/131 [00:33<00:00,  3.89it/s]\n"
          ]
        }
      ],
      "source": [
        "model.eval()\n",
        "device = torch.device(\"cuda\" if torch.cuda.is_available() else \"cpu\")\n",
        "epoch_iterator = tqdm(loaders[\"test\"], desc=\"Extracting features (X / X Steps)\", dynamic_ncols=True)\n",
        "\n",
        "image_features, Y = [], []\n",
        "for step, batch in enumerate(epoch_iterator):\n",
        "\n",
        "    images = batch[0] if isinstance(batch, (list, tuple)) else batch['image']\n",
        "    labels = batch[1] if isinstance(batch, (list, tuple)) else batch['label']\n",
        "\n",
        "\n",
        "    images = images.float().to(device)\n",
        "\n",
        "\n",
        "    features = model.vision_model(images).detach().cpu().numpy()\n",
        "\n",
        "\n",
        "    labels = labels.numpy() if hasattr(labels, 'numpy') else np.array(labels)\n",
        "\n",
        "\n",
        "    image_features.append(features)\n",
        "    Y.append(labels)\n",
        "\n",
        "\n",
        "    epoch_iterator.set_description(f\"Extracting features ({step + 1} / {len(loaders['test'])} Steps)\")\n",
        "\n",
        "\n",
        "image_features = np.concatenate(image_features, axis=0)\n",
        "Y = np.concatenate(Y, axis=0)"
      ]
    },
    {
      "cell_type": "markdown",
      "metadata": {
        "id": "7UYOqR-fo8Jn"
      },
      "source": [
        "## Make the prediction based on the image-text similarity."
      ]
    },
    {
      "cell_type": "code",
      "execution_count": 11,
      "metadata": {
        "id": "cVEvUBjRo8Jn"
      },
      "outputs": [],
      "source": [
        "score = torch.matmul(\n",
        "    torch.tensor(image_features).float().to(device),\n",
        "    text_embeds.float().t().to(device)\n",
        ")\n",
        "\n",
        "preds = torch.softmax(score, dim=-1)\n",
        "preds = preds.detach().cpu().numpy()\n",
        "preds = np.argmax(preds, axis=1)"
      ]
    },
    {
      "cell_type": "markdown",
      "metadata": {
        "id": "yAZYvBsFo8Jn"
      },
      "source": [
        "## Calculate the prediction metrics."
      ]
    },
    {
      "cell_type": "code",
      "execution_count": 12,
      "metadata": {
        "colab": {
          "base_uri": "https://localhost:8080/"
        },
        "id": "vTtQvC5XR9-y",
        "outputId": "d628c865-126d-44fc-fec9-e72ab77d5706"
      },
      "outputs": [
        {
          "name": "stdout",
          "output_type": "stream",
          "text": [
            "==================================================\n",
            "                Evaluation Metrics                \n",
            "==================================================\n",
            "Accuracy: 0.5536\n",
            "Precision (weighted): 0.6699\n",
            "Recall (weighted): 0.5536\n",
            "F1 Score (weighted): 0.5921\n",
            "\n",
            "--------------------------------------------------\n",
            "                 Confusion Matrix                 \n",
            "--------------------------------------------------\n",
            "[[185  97  22   0   1]\n",
            " [ 37  37   7   0   0]\n",
            " [  4  50  50   0   0]\n",
            " [  0   0  11  11   0]\n",
            " [  0   0   2   2   6]]\n",
            "\n",
            "--------------------------------------------------\n",
            "              Classification Report               \n",
            "--------------------------------------------------\n",
            "                                    precision    recall  f1-score   support\n",
            "\n",
            "           no diabetic retinopathy       0.82      0.61      0.70       305\n",
            "         mild diabetic retinopathy       0.20      0.46      0.28        81\n",
            "     moderate diabetic retinopathy       0.54      0.48      0.51       104\n",
            "       severe diabetic retinopathy       0.85      0.50      0.63        22\n",
            "proliferative diabetic retinopathy       0.86      0.60      0.71        10\n",
            "\n",
            "                          accuracy                           0.55       522\n",
            "                         macro avg       0.65      0.53      0.56       522\n",
            "                      weighted avg       0.67      0.55      0.59       522\n",
            "\n",
            "\n",
            "==================================================\n",
            "                 Class-wise AUROC                 \n",
            "==================================================\n",
            "no diabetic retinopathy: 0.7088\n",
            "mild diabetic retinopathy: 0.5617\n",
            "moderate diabetic retinopathy: 0.6901\n",
            "severe diabetic retinopathy: 0.7480\n",
            "proliferative diabetic retinopathy: 0.7990\n",
            "\n",
            "==================================================\n",
            "              Class-wise Specificity              \n",
            "==================================================\n",
            "no diabetic retinopathy: 0.8111\n",
            "mild diabetic retinopathy: 0.6667\n",
            "moderate diabetic retinopathy: 0.8995\n",
            "severe diabetic retinopathy: 0.9960\n",
            "proliferative diabetic retinopathy: 0.9980\n"
          ]
        }
      ],
      "source": [
        "from sklearn.metrics import accuracy_score, precision_score, recall_score, f1_score, confusion_matrix, classification_report, roc_auc_score\n",
        "import numpy as np\n",
        "\n",
        "\n",
        "n_classes = len(targets)\n",
        "pred_probs = np.zeros((len(preds), n_classes))\n",
        "pred_probs[np.arange(len(preds)), preds] = 1\n",
        "\n",
        "# 1. Basic Metrics\n",
        "print(\"=\"*50)\n",
        "print(f\"{'Evaluation Metrics':^50}\")\n",
        "print(\"=\"*50)\n",
        "print(f\"Accuracy: {accuracy_score(Y, preds):.4f}\")\n",
        "print(f\"Precision (weighted): {precision_score(Y, preds, average='weighted'):.4f}\")\n",
        "print(f\"Recall (weighted): {recall_score(Y, preds, average='weighted'):.4f}\")\n",
        "print(f\"F1 Score (weighted): {f1_score(Y, preds, average='weighted'):.4f}\")\n",
        "\n",
        "# 2. Confusion Matrix\n",
        "print(\"\\n\" + \"-\"*50)\n",
        "print(f\"{'Confusion Matrix':^50}\")\n",
        "print(\"-\"*50)\n",
        "print(confusion_matrix(Y, preds))\n",
        "\n",
        "# 3. Classification Report\n",
        "print(\"\\n\" + \"-\"*50)\n",
        "print(f\"{'Classification Report':^50}\")\n",
        "print(\"-\"*50)\n",
        "print(classification_report(Y, preds, target_names=list(targets.keys())))\n",
        "\n",
        "# 4. One-vs-Rest AUROC\n",
        "print(\"\\n\" + \"=\"*50)\n",
        "print(f\"{'Class-wise AUROC':^50}\")\n",
        "print(\"=\"*50)\n",
        "for i, class_name in enumerate(targets.keys()):\n",
        "    y_true_class = (Y == i).astype(int)\n",
        "    y_score = pred_probs[:, i]\n",
        "    auroc = roc_auc_score(y_true_class, y_score)\n",
        "    print(f\"{class_name}: {auroc:.4f}\")\n",
        "\n",
        "# 5. Specificity Calculation\n",
        "def calculate_specificity(conf_mat, class_idx):\n",
        "    tn = conf_mat.sum() - (conf_mat[class_idx,:].sum() + conf_mat[:,class_idx].sum() - conf_mat[class_idx,class_idx])\n",
        "    fp = conf_mat[:,class_idx].sum() - conf_mat[class_idx,class_idx]\n",
        "    return tn / (tn + fp)\n",
        "\n",
        "print(\"\\n\" + \"=\"*50)\n",
        "print(f\"{'Class-wise Specificity':^50}\")\n",
        "print(\"=\"*50)\n",
        "conf_mat = confusion_matrix(Y, preds)\n",
        "for i, class_name in enumerate(targets.keys()):\n",
        "    specificity = calculate_specificity(conf_mat, i)\n",
        "    print(f\"{class_name}: {specificity:.4f}\")"
      ]
    },
    {
      "cell_type": "markdown",
      "metadata": {},
      "source": [
        "Metric Calculation"
      ]
    },
    {
      "cell_type": "code",
      "execution_count": null,
      "metadata": {},
      "outputs": [
        {
          "name": "stdout",
          "output_type": "stream",
          "text": [
            "======================================================================\n",
            "                  CLASSIFICATION METRICS (BY CLASS)                   \n",
            "======================================================================\n"
          ]
        },
        {
          "data": {
            "text/html": [
              "<style type=\"text/css\">\n",
              "#T_01dea th {\n",
              "  text-align: center;\n",
              "}\n",
              "#T_01dea caption {\n",
              "  font-size: 1.2em;\n",
              "}\n",
              "#T_01dea_row0_col0, #T_01dea_row0_col1, #T_01dea_row0_col2, #T_01dea_row0_col3, #T_01dea_row0_col4, #T_01dea_row0_col5, #T_01dea_row1_col0, #T_01dea_row1_col1, #T_01dea_row1_col2, #T_01dea_row1_col3, #T_01dea_row1_col4, #T_01dea_row1_col5, #T_01dea_row2_col0, #T_01dea_row2_col1, #T_01dea_row2_col2, #T_01dea_row2_col3, #T_01dea_row2_col4, #T_01dea_row2_col5, #T_01dea_row3_col0, #T_01dea_row3_col1, #T_01dea_row3_col2, #T_01dea_row3_col3, #T_01dea_row3_col4, #T_01dea_row3_col5, #T_01dea_row4_col0, #T_01dea_row4_col1, #T_01dea_row4_col2, #T_01dea_row4_col3, #T_01dea_row4_col4, #T_01dea_row4_col5 {\n",
              "  text-align: center;\n",
              "}\n",
              "</style>\n",
              "<table id=\"T_01dea\">\n",
              "  <thead>\n",
              "    <tr>\n",
              "      <th class=\"blank level0\" >&nbsp;</th>\n",
              "      <th id=\"T_01dea_level0_col0\" class=\"col_heading level0 col0\" >Class</th>\n",
              "      <th id=\"T_01dea_level0_col1\" class=\"col_heading level0 col1\" >Precision</th>\n",
              "      <th id=\"T_01dea_level0_col2\" class=\"col_heading level0 col2\" >Recall</th>\n",
              "      <th id=\"T_01dea_level0_col3\" class=\"col_heading level0 col3\" >Specificity</th>\n",
              "      <th id=\"T_01dea_level0_col4\" class=\"col_heading level0 col4\" >NPV</th>\n",
              "      <th id=\"T_01dea_level0_col5\" class=\"col_heading level0 col5\" >Support</th>\n",
              "    </tr>\n",
              "  </thead>\n",
              "  <tbody>\n",
              "    <tr>\n",
              "      <th id=\"T_01dea_level0_row0\" class=\"row_heading level0 row0\" >0</th>\n",
              "      <td id=\"T_01dea_row0_col0\" class=\"data row0 col0\" >No DR</td>\n",
              "      <td id=\"T_01dea_row0_col1\" class=\"data row0 col1\" >0.8186</td>\n",
              "      <td id=\"T_01dea_row0_col2\" class=\"data row0 col2\" >0.6066</td>\n",
              "      <td id=\"T_01dea_row0_col3\" class=\"data row0 col3\" >0.8111</td>\n",
              "      <td id=\"T_01dea_row0_col4\" class=\"data row0 col4\" >0.5946</td>\n",
              "      <td id=\"T_01dea_row0_col5\" class=\"data row0 col5\" >305</td>\n",
              "    </tr>\n",
              "    <tr>\n",
              "      <th id=\"T_01dea_level0_row1\" class=\"row_heading level0 row1\" >1</th>\n",
              "      <td id=\"T_01dea_row1_col0\" class=\"data row1 col0\" >Mild DR</td>\n",
              "      <td id=\"T_01dea_row1_col1\" class=\"data row1 col1\" >0.2011</td>\n",
              "      <td id=\"T_01dea_row1_col2\" class=\"data row1 col2\" >0.4568</td>\n",
              "      <td id=\"T_01dea_row1_col3\" class=\"data row1 col3\" >0.6667</td>\n",
              "      <td id=\"T_01dea_row1_col4\" class=\"data row1 col4\" >0.8698</td>\n",
              "      <td id=\"T_01dea_row1_col5\" class=\"data row1 col5\" >81</td>\n",
              "    </tr>\n",
              "    <tr>\n",
              "      <th id=\"T_01dea_level0_row2\" class=\"row_heading level0 row2\" >2</th>\n",
              "      <td id=\"T_01dea_row2_col0\" class=\"data row2 col0\" >Moderate DR</td>\n",
              "      <td id=\"T_01dea_row2_col1\" class=\"data row2 col1\" >0.5435</td>\n",
              "      <td id=\"T_01dea_row2_col2\" class=\"data row2 col2\" >0.4808</td>\n",
              "      <td id=\"T_01dea_row2_col3\" class=\"data row2 col3\" >0.8995</td>\n",
              "      <td id=\"T_01dea_row2_col4\" class=\"data row2 col4\" >0.8744</td>\n",
              "      <td id=\"T_01dea_row2_col5\" class=\"data row2 col5\" >104</td>\n",
              "    </tr>\n",
              "    <tr>\n",
              "      <th id=\"T_01dea_level0_row3\" class=\"row_heading level0 row3\" >3</th>\n",
              "      <td id=\"T_01dea_row3_col0\" class=\"data row3 col0\" >Severe DR</td>\n",
              "      <td id=\"T_01dea_row3_col1\" class=\"data row3 col1\" >0.8462</td>\n",
              "      <td id=\"T_01dea_row3_col2\" class=\"data row3 col2\" >0.5000</td>\n",
              "      <td id=\"T_01dea_row3_col3\" class=\"data row3 col3\" >0.9960</td>\n",
              "      <td id=\"T_01dea_row3_col4\" class=\"data row3 col4\" >0.9784</td>\n",
              "      <td id=\"T_01dea_row3_col5\" class=\"data row3 col5\" >22</td>\n",
              "    </tr>\n",
              "    <tr>\n",
              "      <th id=\"T_01dea_level0_row4\" class=\"row_heading level0 row4\" >4</th>\n",
              "      <td id=\"T_01dea_row4_col0\" class=\"data row4 col0\" >Proliferative DR</td>\n",
              "      <td id=\"T_01dea_row4_col1\" class=\"data row4 col1\" >0.8571</td>\n",
              "      <td id=\"T_01dea_row4_col2\" class=\"data row4 col2\" >0.6000</td>\n",
              "      <td id=\"T_01dea_row4_col3\" class=\"data row4 col3\" >0.9980</td>\n",
              "      <td id=\"T_01dea_row4_col4\" class=\"data row4 col4\" >0.9922</td>\n",
              "      <td id=\"T_01dea_row4_col5\" class=\"data row4 col5\" >10</td>\n",
              "    </tr>\n",
              "  </tbody>\n",
              "</table>\n"
            ],
            "text/plain": [
              "<pandas.io.formats.style.Styler at 0x154889b12e0>"
            ]
          },
          "metadata": {},
          "output_type": "display_data"
        },
        {
          "name": "stdout",
          "output_type": "stream",
          "text": [
            "\n",
            "======================================================================\n",
            "                           OVERALL METRICS                            \n",
            "======================================================================\n"
          ]
        },
        {
          "data": {
            "text/html": [
              "<style type=\"text/css\">\n",
              "#T_aaf55 th {\n",
              "  text-align: center;\n",
              "}\n",
              "#T_aaf55 caption {\n",
              "  font-size: 1.2em;\n",
              "}\n",
              "#T_aaf55_row0_col0, #T_aaf55_row0_col1, #T_aaf55_row0_col2, #T_aaf55_row0_col3, #T_aaf55_row0_col4, #T_aaf55_row0_col5, #T_aaf55_row0_col6 {\n",
              "  text-align: center;\n",
              "}\n",
              "</style>\n",
              "<table id=\"T_aaf55\">\n",
              "  <thead>\n",
              "    <tr>\n",
              "      <th class=\"blank level0\" >&nbsp;</th>\n",
              "      <th id=\"T_aaf55_level0_col0\" class=\"col_heading level0 col0\" >Class</th>\n",
              "      <th id=\"T_aaf55_level0_col1\" class=\"col_heading level0 col1\" >Accuracy</th>\n",
              "      <th id=\"T_aaf55_level0_col2\" class=\"col_heading level0 col2\" >Weighted Precision</th>\n",
              "      <th id=\"T_aaf55_level0_col3\" class=\"col_heading level0 col3\" >Weighted Recall</th>\n",
              "      <th id=\"T_aaf55_level0_col4\" class=\"col_heading level0 col4\" >Weighted F1</th>\n",
              "      <th id=\"T_aaf55_level0_col5\" class=\"col_heading level0 col5\" >Macro Precision</th>\n",
              "      <th id=\"T_aaf55_level0_col6\" class=\"col_heading level0 col6\" >Macro Recall</th>\n",
              "    </tr>\n",
              "  </thead>\n",
              "  <tbody>\n",
              "    <tr>\n",
              "      <th id=\"T_aaf55_level0_row0\" class=\"row_heading level0 row0\" >0</th>\n",
              "      <td id=\"T_aaf55_row0_col0\" class=\"data row0 col0\" >Overall</td>\n",
              "      <td id=\"T_aaf55_row0_col1\" class=\"data row0 col1\" >0.5536</td>\n",
              "      <td id=\"T_aaf55_row0_col2\" class=\"data row0 col2\" >0.6699</td>\n",
              "      <td id=\"T_aaf55_row0_col3\" class=\"data row0 col3\" >0.5536</td>\n",
              "      <td id=\"T_aaf55_row0_col4\" class=\"data row0 col4\" >0.5921</td>\n",
              "      <td id=\"T_aaf55_row0_col5\" class=\"data row0 col5\" >0.6533</td>\n",
              "      <td id=\"T_aaf55_row0_col6\" class=\"data row0 col6\" >0.5288</td>\n",
              "    </tr>\n",
              "  </tbody>\n",
              "</table>\n"
            ],
            "text/plain": [
              "<pandas.io.formats.style.Styler at 0x154889b12e0>"
            ]
          },
          "metadata": {},
          "output_type": "display_data"
        }
      ],
      "source": [
        "import numpy as np\n",
        "import pandas as pd\n",
        "from collections import OrderedDict\n",
        "\n",
        "\n",
        "conf_matrix = np.array([\n",
        "    [185,  97,  22,   0,   1],\n",
        "    [ 37,  37,   7,   0,   0],\n",
        "    [  4,  50,  50,   0,   0],\n",
        "    [  0,   0,  11,  11,   0],\n",
        "    [  0,   0,   2,   2,   6]\n",
        "])\n",
        "\n",
        "\n",
        "targets = OrderedDict([\n",
        "    (\"No DR\", 0),\n",
        "    (\"Mild DR\", 1),\n",
        "    (\"Moderate DR\", 2),\n",
        "    (\"Severe DR\", 3),\n",
        "    (\"Proliferative DR\", 4)\n",
        "])\n",
        "\n",
        "def calculate_metrics(conf_matrix, targets):\n",
        "    metrics = []\n",
        "    total = conf_matrix.sum()\n",
        "    \n",
        "    for name, idx in targets.items():\n",
        "        TP = conf_matrix[idx, idx]\n",
        "        FP = conf_matrix[:, idx].sum() - TP\n",
        "        FN = conf_matrix[idx, :].sum() - TP\n",
        "        TN = total - (TP + FP + FN)\n",
        "        \n",
        "        metrics.append({\n",
        "            'Class': name,\n",
        "            'Precision': f\"{TP/(TP+FP):.4f}\" if (TP+FP) > 0 else \"0.0000\",\n",
        "            'Recall': f\"{TP/(TP+FN):.4f}\" if (TP+FN) > 0 else \"0.0000\",\n",
        "            'Specificity': f\"{TN/(TN+FP):.4f}\" if (TN+FP) > 0 else \"0.0000\",\n",
        "            'NPV': f\"{TN/(TN+FN):.4f}\" if (TN+FN) > 0 else \"0.0000\",\n",
        "            'Support': conf_matrix[idx, :].sum()\n",
        "        })\n",
        "    \n",
        " \n",
        "    accuracy = np.trace(conf_matrix)/total\n",
        "    macro_precision = np.mean([float(m['Precision']) for m in metrics])\n",
        "    macro_recall = np.mean([float(m['Recall']) for m in metrics])\n",
        "    \n",
        "    overall_metrics = pd.DataFrame({\n",
        "        'Class': ['Overall'],\n",
        "        'Accuracy': [f\"{accuracy:.4f}\"],\n",
        "        'Weighted Precision': [\"0.6699\"],\n",
        "        'Weighted Recall': [\"0.5536\"],\n",
        "        'Weighted F1': [\"0.5921\"],\n",
        "        'Macro Precision': [f\"{macro_precision:.4f}\"],\n",
        "        'Macro Recall': [f\"{macro_recall:.4f}\"]\n",
        "    })\n",
        "    \n",
        "    return pd.DataFrame(metrics), overall_metrics\n",
        "\n",
        "class_metrics, overall_metrics = calculate_metrics(conf_matrix, targets)\n",
        "\n",
        "def style_metrics(df):\n",
        "    return df.style \\\n",
        "        .set_properties(**{'text-align': 'center'}) \\\n",
        "        .set_table_styles([\n",
        "            {'selector': 'th', 'props': [('text-align', 'center')]},\n",
        "            {'selector': 'caption', 'props': [('font-size', '1.2em')]}\n",
        "        ]) \\\n",
        "        .format(precision=4)\n",
        "\n",
        "print(\"=\"*70)\n",
        "print(\"CLASSIFICATION METRICS (BY CLASS)\".center(70))\n",
        "print(\"=\"*70)\n",
        "display(style_metrics(class_metrics))\n",
        "\n",
        "print(\"\\n\" + \"=\"*70)\n",
        "print(\"OVERALL METRICS\".center(70))\n",
        "print(\"=\"*70)\n",
        "display(style_metrics(overall_metrics))"
      ]
    },
    {
      "cell_type": "code",
      "execution_count": 13,
      "metadata": {
        "colab": {
          "base_uri": "https://localhost:8080/",
          "height": 900
        },
        "id": "8O57rM_HSt2A",
        "outputId": "244aa902-7236-47d9-ef18-3007e23024a4"
      },
      "outputs": [
        {
          "data": {
            "image/png": "[encoded data removed]",
            "text/plain": [
              "<Figure size 1000x800 with 1 Axes>"
            ]
          },
          "metadata": {},
          "output_type": "display_data"
        },
        {
          "name": "stdout",
          "output_type": "stream",
          "text": [
            "\n",
            "==================================================\n",
            "            One-vs-Rest AUROC Results             \n",
            "==================================================\n",
            "Class                                      AUC\n",
            "--------------------------------------------------\n",
            "no diabetic retinopathy                 0.8042\n",
            "mild diabetic retinopathy               0.6382\n",
            "moderate diabetic retinopathy           0.8633\n",
            "severe diabetic retinopathy             0.9875\n",
            "proliferative diabetic retinopathy      0.9842\n",
            "==================================================\n"
          ]
        }
      ],
      "source": [
        "import numpy as np\n",
        "import matplotlib.pyplot as plt\n",
        "from sklearn.metrics import roc_curve, auc\n",
        "from itertools import cycle\n",
        "\n",
        "pred_probs = torch.softmax(score, dim=-1)\n",
        "pred_probs = pred_probs.detach().cpu().numpy()\n",
        "preds = np.argmax(pred_probs, axis=1)\n",
        "\n",
        "fpr = dict()\n",
        "tpr = dict()\n",
        "roc_auc = dict()\n",
        "for i in range(n_classes):\n",
        "    fpr[i], tpr[i], _ = roc_curve((Y == i).astype(int), pred_probs[:, i])\n",
        "    roc_auc[i] = auc(fpr[i], tpr[i])\n",
        "\n",
        "plt.figure(figsize=(10, 8))\n",
        "colors = cycle(['aqua', 'darkorange', 'cornflowerblue', 'green', 'red'])\n",
        "for i, color, class_name in zip(range(n_classes), colors, targets.keys()):\n",
        "    plt.plot(fpr[i], tpr[i], color=color, lw=2,\n",
        "             label=f'{class_name} (AUC = {roc_auc[i]:.2f})')\n",
        "\n",
        "plt.plot([0, 1], [0, 1], 'k--', lw=2)\n",
        "plt.xlim([0.0, 1.0])\n",
        "plt.ylim([0.0, 1.05])\n",
        "plt.xlabel('False Positive Rate')\n",
        "plt.ylabel('True Positive Rate')\n",
        "plt.title('One-vs-Rest ROC Curves\\nDiabetic Retinopathy Classification')\n",
        "plt.legend(loc=\"lower right\")\n",
        "plt.show()\n",
        "\n",
        "print(\"\\n\" + \"=\"*50)\n",
        "print(f\"{'One-vs-Rest AUROC Results':^50}\")\n",
        "print(\"=\"*50)\n",
        "print(f\"{'Class':<35} {'AUC':>10}\")\n",
        "print(\"-\"*50)\n",
        "for i, class_name in enumerate(targets.keys()):\n",
        "    print(f\"{class_name:<35} {roc_auc[i]:>10.4f}\")\n",
        "print(\"=\"*50)"
      ]
    },
    {
      "cell_type": "markdown",
      "metadata": {
        "id": "xZllg4pYo8Jo"
      },
      "source": [
        "## Bonus Question: Training the CLIP Model\n",
        "In the Bonus question, you will only need to use the provided retinal dataset to finetune the CLIP model. The image-text pairs can be constructed from the retinal image and its corresponding \"categories\" caption in the csv file. There is no performance bar, you only need to honestly report the training loss."
      ]
    },
    {
      "cell_type": "markdown",
      "metadata": {
        "collapsed": false,
        "id": "n5M6SQnio8Jo"
      },
      "source": [
        "## Implement the customed Dataset and Dataloader"
      ]
    },
    {
      "cell_type": "code",
      "execution_count": null,
      "metadata": {
        "colab": {
          "base_uri": "https://localhost:8080/"
        },
        "id": "QH2g7fkLS_H7",
        "outputId": "a1d19687-8714-46e3-a99d-77765bf2b6f7"
      },
      "outputs": [
        {
          "name": "stdout",
          "output_type": "stream",
          "text": [
            "Pretrained weights: IMAGENET1K_V1\n",
            "load model weight from: ./flair_pretrained_weights/flair_resnet.pth\n",
            "Missing keys: []\n",
            "Unexpected keys: []\n"
          ]
        }
      ],
      "source": [
        "import os\n",
        "import torch\n",
        "import torch.nn.functional as F\n",
        "import numpy as np\n",
        "from tqdm import tqdm\n",
        "from sklearn.metrics import classification_report, confusion_matrix, accuracy_score, roc_auc_score\n",
        "from model import FLAIRModel\n",
        "from dictionary import definitions\n",
        "from torch.utils.data import Dataset, DataLoader, Subset\n",
        "from torchvision import transforms\n",
        "from PIL import Image\n",
        "import pandas as pd\n",
        "import ast\n",
        "\n",
        "\n",
        "# CONFIG\n",
        "data_csv = \"./02_MESSIDOR.csv\"  #csv file path\n",
        "data_root = \"./IMAGES/\"      #dataset path\n",
        "categories = [\n",
        "    \"no diabetic retinopathy\",\n",
        "    \"mild diabetic retinopathy\",\n",
        "    \"moderate diabetic retinopathy\",\n",
        "    \"severe diabetic retinopathy\",\n",
        "    \"proliferative diabetic retinopathy\"\n",
        "]\n",
        "targets_dict = {cat: i for i, cat in enumerate(categories)}\n",
        "device = 'cuda' if torch.cuda.is_available() else 'cpu'\n",
        "temperature = 0.2\n",
        "\n",
        "\n",
        "# CUSTOM DATASET\n",
        "class RetinalDataset(Dataset):\n",
        "    def __init__(self, csv_file, root_dir, transform=None):\n",
        "        self.data = pd.read_csv(csv_file)\n",
        "        self.root_dir = root_dir\n",
        "        self.transform = transform\n",
        "        self.image_paths = self.data['image'].tolist()\n",
        "        self.labels = [targets_dict[ast.literal_eval(cat)[0]] for cat in self.data['categories'].tolist()]\n",
        "\n",
        "    def __len__(self):\n",
        "        return len(self.image_paths)\n",
        "\n",
        "    def __getitem__(self, idx):\n",
        "        img_path = os.path.join(self.root_dir, self.image_paths[idx])\n",
        "        image = Image.open(img_path).convert('RGB')\n",
        "        label = self.labels[idx]\n",
        "\n",
        "        if self.transform:\n",
        "            image = self.transform(image)\n",
        "\n",
        "        return {\"image\": image, \"label\": label}\n",
        "\n",
        "# =============================\n",
        "# DATA AUGMENTATION\n",
        "# =============================\n",
        "train_transform = transforms.Compose([\n",
        "    transforms.RandomHorizontalFlip(p=0.5),\n",
        "    transforms.RandomRotation(20),\n",
        "    transforms.ColorJitter(brightness=0.3, contrast=0.3, saturation=0.3),\n",
        "    transforms.RandomResizedCrop(512, scale=(0.8, 1.0)),\n",
        "    transforms.ToTensor(),\n",
        "])\n",
        "\n",
        "val_test_transform = transforms.Compose([\n",
        "    transforms.Resize((512, 512)),\n",
        "    transforms.ToTensor(),\n",
        "])\n",
        "\n",
        "# 데이터셋 생성\n",
        "full_dataset = RetinalDataset(csv_file=data_csv, root_dir=data_root, transform=None)\n",
        "\n",
        "# 데이터셋 분할 (60% train, 10% val, 30% test)\n",
        "num_total = len(full_dataset)\n",
        "num_train = int(0.6 * num_total)\n",
        "num_val = int(0.1 * num_total)\n",
        "num_test = num_total - num_train - num_val\n",
        "\n",
        "train_idx, val_idx, test_idx = torch.utils.data.random_split(\n",
        "    range(num_total), [num_train, num_val, num_test], generator=torch.Generator().manual_seed(42)\n",
        ")\n",
        "\n",
        "train_dataset = Subset(full_dataset, train_idx)\n",
        "val_dataset = Subset(full_dataset, val_idx)\n",
        "test_dataset = Subset(full_dataset, test_idx)\n",
        "\n",
        "# transform 적용\n",
        "train_dataset.dataset.transform = train_transform\n",
        "val_dataset.dataset.transform = val_test_transform\n",
        "test_dataset.dataset.transform = val_test_transform\n",
        "\n",
        "# 데이터로더 생성\n",
        "loaders = {\n",
        "    \"train\": DataLoader(train_dataset, batch_size=32, shuffle=True, num_workers=4),\n",
        "    \"val\": DataLoader(val_dataset, batch_size=32, shuffle=False, num_workers=4),\n",
        "    \"test\": DataLoader(test_dataset, batch_size=32, shuffle=False, num_workers=4),\n",
        "}\n",
        "\n",
        "# =============================\n",
        "# MODEL INIT\n",
        "# =============================\n",
        "model = FLAIRModel(\n",
        "    vision_type='resnet_v1',\n",
        "    from_checkpoint=True,\n",
        "    weights_path=None,\n",
        "    image_size=512,\n",
        "    caption=\"Fundus image showing [CLS]\",\n",
        "    projection=True,\n",
        "    norm_features=True,\n",
        "    vision_pretrained=True\n",
        ").to(device)\n",
        "model.train()\n",
        "\n",
        "# =============================\n",
        "# TEXT EMBEDDINGS\n",
        "# =============================\n",
        "text_embed_dict, text_embeds = model.compute_text_embeddings(categories, domain_knowledge=True)\n",
        "text_embeds = text_embeds.to(device)"
      ]
    },
    {
      "cell_type": "code",
      "execution_count": 24,
      "metadata": {
        "id": "bYFzFZeoTA3Z"
      },
      "outputs": [],
      "source": [
        "optimizer = torch.optim.AdamW(model.parameters(), lr=5e-5, weight_decay=1e-1)\n",
        "scheduler = torch.optim.lr_scheduler.ReduceLROnPlateau(optimizer, mode='min', factor=0.5, patience=1, verbose=True)\n",
        "\n",
        "# =============================\n",
        "# CONTRASTIVE LOSS FUNCTION\n",
        "# =============================\n",
        "def contrastive_loss(image_embeds, text_embeds, labels, temperature=0.2):\n",
        "    logits = image_embeds @ text_embeds.T / temperature\n",
        "    loss = F.cross_entropy(logits, labels)\n",
        "    return loss"
      ]
    },
    {
      "cell_type": "code",
      "execution_count": 25,
      "metadata": {
        "id": "_UJ9hjmwTFH6"
      },
      "outputs": [],
      "source": [
        "def train_one_epoch(model, dataloader, text_embeds, optimizer):\n",
        "    model.train()\n",
        "    total_loss = 0\n",
        "    all_preds, all_labels = [], []\n",
        "\n",
        "    optimizer.zero_grad()\n",
        "    for batch in tqdm(dataloader, desc=\"Training\"):\n",
        "        images = batch[\"image\"].to(torch.float32).to(device)\n",
        "        labels = batch[\"label\"].to(device)\n",
        "\n",
        "        img_embeds = model.vision_model(images)\n",
        "        img_embeds = F.dropout(img_embeds, p=0.5, training=True)\n",
        "\n",
        "        loss = contrastive_loss(img_embeds, text_embeds, labels, temperature)\n",
        "        loss.backward()\n",
        "\n",
        "        torch.nn.utils.clip_grad_norm_(model.parameters(), max_norm=1.0)\n",
        "        optimizer.step()\n",
        "        optimizer.zero_grad()\n",
        "\n",
        "        total_loss += loss.item()\n",
        "\n",
        "        logits = model.compute_logits(img_embeds, text_embeds)\n",
        "        preds = torch.argmax(logits, dim=1)\n",
        "        all_preds.extend(preds.cpu().numpy())\n",
        "        all_labels.extend(labels.cpu().numpy())\n",
        "\n",
        "    avg_loss = total_loss / len(dataloader)\n",
        "    acc = accuracy_score(all_labels, all_preds)\n",
        "    return avg_loss, acc"
      ]
    },
    {
      "cell_type": "markdown",
      "metadata": {
        "collapsed": false,
        "id": "yHik3plMo8Jo"
      },
      "source": [
        "## Implement the training loop"
      ]
    },
    {
      "cell_type": "code",
      "execution_count": 26,
      "metadata": {
        "colab": {
          "base_uri": "https://localhost:8080/"
        },
        "id": "l14eipa3THN0",
        "outputId": "5fd9a465-224f-4d5b-8f2e-b5a010c36a7d"
      },
      "outputs": [
        {
          "name": "stderr",
          "output_type": "stream",
          "text": [
            "Training: 100%|██████████| 33/33 [00:30<00:00,  1.09it/s]"
          ]
        },
        {
          "name": "stdout",
          "output_type": "stream",
          "text": [
            "📚 Epoch 1/20 - Loss: 1.1232 - Accuracy: 0.5803\n"
          ]
        },
        {
          "name": "stderr",
          "output_type": "stream",
          "text": [
            "\n"
          ]
        },
        {
          "name": "stdout",
          "output_type": "stream",
          "text": [
            "Validation Loss: 0.9164\n"
          ]
        },
        {
          "name": "stderr",
          "output_type": "stream",
          "text": [
            "Training: 100%|██████████| 33/33 [00:31<00:00,  1.05it/s]"
          ]
        },
        {
          "name": "stdout",
          "output_type": "stream",
          "text": [
            "📚 Epoch 2/20 - Loss: 0.7004 - Accuracy: 0.8174\n"
          ]
        },
        {
          "name": "stderr",
          "output_type": "stream",
          "text": [
            "\n"
          ]
        },
        {
          "name": "stdout",
          "output_type": "stream",
          "text": [
            "Validation Loss: 0.8546\n"
          ]
        },
        {
          "name": "stderr",
          "output_type": "stream",
          "text": [
            "Training: 100%|██████████| 33/33 [00:31<00:00,  1.05it/s]"
          ]
        },
        {
          "name": "stdout",
          "output_type": "stream",
          "text": [
            "📚 Epoch 3/20 - Loss: 0.4807 - Accuracy: 0.9379\n"
          ]
        },
        {
          "name": "stderr",
          "output_type": "stream",
          "text": [
            "\n"
          ]
        },
        {
          "name": "stdout",
          "output_type": "stream",
          "text": [
            "Validation Loss: 0.8242\n"
          ]
        },
        {
          "name": "stderr",
          "output_type": "stream",
          "text": [
            "Training: 100%|██████████| 33/33 [00:31<00:00,  1.05it/s]"
          ]
        },
        {
          "name": "stdout",
          "output_type": "stream",
          "text": [
            "📚 Epoch 4/20 - Loss: 0.3596 - Accuracy: 0.9876\n"
          ]
        },
        {
          "name": "stderr",
          "output_type": "stream",
          "text": [
            "\n"
          ]
        },
        {
          "name": "stdout",
          "output_type": "stream",
          "text": [
            "Validation Loss: 0.8388\n"
          ]
        },
        {
          "name": "stderr",
          "output_type": "stream",
          "text": [
            "Training: 100%|██████████| 33/33 [00:29<00:00,  1.11it/s]"
          ]
        },
        {
          "name": "stdout",
          "output_type": "stream",
          "text": [
            "📚 Epoch 5/20 - Loss: 0.3093 - Accuracy: 0.9962\n"
          ]
        },
        {
          "name": "stderr",
          "output_type": "stream",
          "text": [
            "\n"
          ]
        },
        {
          "name": "stdout",
          "output_type": "stream",
          "text": [
            "Validation Loss: 0.8093\n"
          ]
        },
        {
          "name": "stderr",
          "output_type": "stream",
          "text": [
            "Training: 100%|██████████| 33/33 [00:31<00:00,  1.05it/s]"
          ]
        },
        {
          "name": "stdout",
          "output_type": "stream",
          "text": [
            "📚 Epoch 6/20 - Loss: 0.2942 - Accuracy: 0.9990\n"
          ]
        },
        {
          "name": "stderr",
          "output_type": "stream",
          "text": [
            "\n"
          ]
        },
        {
          "name": "stdout",
          "output_type": "stream",
          "text": [
            "Validation Loss: 0.8309\n"
          ]
        },
        {
          "name": "stderr",
          "output_type": "stream",
          "text": [
            "Training: 100%|██████████| 33/33 [00:29<00:00,  1.11it/s]"
          ]
        },
        {
          "name": "stdout",
          "output_type": "stream",
          "text": [
            "📚 Epoch 7/20 - Loss: 0.2883 - Accuracy: 1.0000\n"
          ]
        },
        {
          "name": "stderr",
          "output_type": "stream",
          "text": [
            "\n"
          ]
        },
        {
          "name": "stdout",
          "output_type": "stream",
          "text": [
            "Validation Loss: 0.8259\n"
          ]
        },
        {
          "name": "stderr",
          "output_type": "stream",
          "text": [
            "Training: 100%|██████████| 33/33 [00:30<00:00,  1.09it/s]"
          ]
        },
        {
          "name": "stdout",
          "output_type": "stream",
          "text": [
            "📚 Epoch 8/20 - Loss: 0.2834 - Accuracy: 1.0000\n"
          ]
        },
        {
          "name": "stderr",
          "output_type": "stream",
          "text": [
            "\n"
          ]
        },
        {
          "name": "stdout",
          "output_type": "stream",
          "text": [
            "Validation Loss: 0.8216\n"
          ]
        },
        {
          "name": "stderr",
          "output_type": "stream",
          "text": [
            "Training: 100%|██████████| 33/33 [00:29<00:00,  1.11it/s]"
          ]
        },
        {
          "name": "stdout",
          "output_type": "stream",
          "text": [
            "📚 Epoch 9/20 - Loss: 0.2866 - Accuracy: 0.9981\n"
          ]
        },
        {
          "name": "stderr",
          "output_type": "stream",
          "text": [
            "\n"
          ]
        },
        {
          "name": "stdout",
          "output_type": "stream",
          "text": [
            "Validation Loss: 0.8262\n"
          ]
        },
        {
          "name": "stderr",
          "output_type": "stream",
          "text": [
            "Training: 100%|██████████| 33/33 [00:29<00:00,  1.11it/s]"
          ]
        },
        {
          "name": "stdout",
          "output_type": "stream",
          "text": [
            "📚 Epoch 10/20 - Loss: 0.2840 - Accuracy: 1.0000\n"
          ]
        },
        {
          "name": "stderr",
          "output_type": "stream",
          "text": [
            "\n"
          ]
        },
        {
          "name": "stdout",
          "output_type": "stream",
          "text": [
            "Validation Loss: 0.8309\n",
            "Early stopping triggered\n",
            "\n",
            "🔍 Evaluating on Test Set\n",
            "Test Accuracy: 0.7481 (74.81%)\n",
            "\n",
            "Confusion Matrix:\n",
            "[[289   7   0   0   0]\n",
            " [ 60  20  10   0   0]\n",
            " [ 24  12  65   7   1]\n",
            " [  0   0   6  15   0]\n",
            " [  0   0   2   3   3]]\n",
            "\n",
            "Classification Report:\n",
            "                                    precision    recall  f1-score   support\n",
            "\n",
            "           no diabetic retinopathy       0.77      0.98      0.86       296\n",
            "         mild diabetic retinopathy       0.51      0.22      0.31        90\n",
            "     moderate diabetic retinopathy       0.78      0.60      0.68       109\n",
            "       severe diabetic retinopathy       0.60      0.71      0.65        21\n",
            "proliferative diabetic retinopathy       0.75      0.38      0.50         8\n",
            "\n",
            "                          accuracy                           0.75       524\n",
            "                         macro avg       0.68      0.58      0.60       524\n",
            "                      weighted avg       0.72      0.75      0.72       524\n",
            "\n",
            "\n",
            "AUROC (OvR): 0.8932\n"
          ]
        }
      ],
      "source": [
        "EPOCHS = 20\n",
        "best_val_loss = float('inf')\n",
        "patience = 5\n",
        "counter = 0\n",
        "\n",
        "class_names = [\n",
        "    'no diabetic retinopathy',\n",
        "    'mild diabetic retinopathy',\n",
        "    'moderate diabetic retinopathy',\n",
        "    'severe diabetic retinopathy',\n",
        "    'proliferative diabetic retinopathy'\n",
        "]\n",
        "\n",
        "for epoch in range(EPOCHS):\n",
        "    loss, acc = train_one_epoch(model, loaders[\"train\"], text_embeds, optimizer)\n",
        "    print(f\"📚 Epoch {epoch+1}/{EPOCHS} - Loss: {loss:.4f} - Accuracy: {acc:.4f}\")\n",
        "\n",
        "    model.eval()\n",
        "    val_loss = 0.0\n",
        "    with torch.no_grad():\n",
        "        for batch in loaders[\"val\"]:\n",
        "            images = batch[\"image\"].to(torch.float32).to(device)\n",
        "            labels = batch[\"label\"].to(device)\n",
        "            img_embeds = model.vision_model(images)\n",
        "            val_loss += contrastive_loss(img_embeds, text_embeds, labels, temperature).item()\n",
        "    avg_val_loss = val_loss / len(loaders[\"val\"])\n",
        "    print(f\"Validation Loss: {avg_val_loss:.4f}\")\n",
        "\n",
        "    scheduler.step(avg_val_loss)\n",
        "\n",
        "    if avg_val_loss < best_val_loss:\n",
        "        best_val_loss = avg_val_loss\n",
        "        counter = 0\n",
        "        torch.save(model.state_dict(), \"best_model.pth\")\n",
        "    else:\n",
        "        counter += 1\n",
        "    if counter >= patience:\n",
        "        print(\"Early stopping triggered\")\n",
        "        break\n",
        "\n",
        "# =============================\n",
        "# FINAL EVALUATION\n",
        "# =============================\n",
        "print(\"\\n🔍 Evaluating on Test Set\")\n",
        "model.eval()\n",
        "all_preds = []\n",
        "all_labels = []\n",
        "all_probs = []\n",
        "\n",
        "with torch.no_grad():\n",
        "    for batch in loaders[\"test\"]:\n",
        "        images = batch[\"image\"].to(torch.float32).to(device)\n",
        "        labels = batch[\"label\"].to(device)\n",
        "\n",
        "        image_embeds = model.vision_model(images)\n",
        "        logits = model.compute_logits(image_embeds, text_embeds)\n",
        "        probs = F.softmax(logits, dim=1)\n",
        "        preds = torch.argmax(probs, dim=1).cpu().numpy()\n",
        "\n",
        "        all_preds.extend(preds)\n",
        "        all_labels.extend(labels.cpu().numpy())\n",
        "        all_probs.extend(probs.cpu().numpy())\n",
        "\n",
        "accuracy = accuracy_score(all_labels, all_preds)\n",
        "print(f\"Test Accuracy: {accuracy:.4f} ({accuracy*100:.2f}%)\")\n",
        "\n",
        "print(\"\\nConfusion Matrix:\")\n",
        "print(confusion_matrix(all_labels, all_preds))\n",
        "\n",
        "print(\"\\nClassification Report:\")\n",
        "print(classification_report(all_labels, all_preds, target_names=class_names))\n",
        "\n",
        "onehot_labels = F.one_hot(torch.tensor(all_labels), num_classes=len(class_names)).numpy()\n",
        "auroc = roc_auc_score(onehot_labels, np.array(all_probs), multi_class='ovr')\n",
        "print(f\"\\nAUROC (OvR): {auroc:.4f}\")"
      ]
    },
    {
      "cell_type": "markdown",
      "metadata": {},
      "source": [
        "Metric Calculation"
      ]
    },
    {
      "cell_type": "code",
      "execution_count": null,
      "metadata": {},
      "outputs": [
        {
          "name": "stdout",
          "output_type": "stream",
          "text": [
            "======================================================================\n",
            "                  CLASSIFICATION METRICS (BY CLASS)                   \n",
            "======================================================================\n"
          ]
        },
        {
          "data": {
            "text/html": [
              "<style type=\"text/css\">\n",
              "#T_4184e th {\n",
              "  text-align: center;\n",
              "}\n",
              "#T_4184e caption {\n",
              "  font-size: 1.2em;\n",
              "}\n",
              "#T_4184e_row0_col0, #T_4184e_row0_col1, #T_4184e_row0_col2, #T_4184e_row0_col3, #T_4184e_row0_col4, #T_4184e_row0_col5, #T_4184e_row1_col0, #T_4184e_row1_col1, #T_4184e_row1_col2, #T_4184e_row1_col3, #T_4184e_row1_col4, #T_4184e_row1_col5, #T_4184e_row2_col0, #T_4184e_row2_col1, #T_4184e_row2_col2, #T_4184e_row2_col3, #T_4184e_row2_col4, #T_4184e_row2_col5, #T_4184e_row3_col0, #T_4184e_row3_col1, #T_4184e_row3_col2, #T_4184e_row3_col3, #T_4184e_row3_col4, #T_4184e_row3_col5, #T_4184e_row4_col0, #T_4184e_row4_col1, #T_4184e_row4_col2, #T_4184e_row4_col3, #T_4184e_row4_col4, #T_4184e_row4_col5 {\n",
              "  text-align: center;\n",
              "}\n",
              "</style>\n",
              "<table id=\"T_4184e\">\n",
              "  <thead>\n",
              "    <tr>\n",
              "      <th class=\"blank level0\" >&nbsp;</th>\n",
              "      <th id=\"T_4184e_level0_col0\" class=\"col_heading level0 col0\" >Class</th>\n",
              "      <th id=\"T_4184e_level0_col1\" class=\"col_heading level0 col1\" >Precision</th>\n",
              "      <th id=\"T_4184e_level0_col2\" class=\"col_heading level0 col2\" >Recall</th>\n",
              "      <th id=\"T_4184e_level0_col3\" class=\"col_heading level0 col3\" >Specificity</th>\n",
              "      <th id=\"T_4184e_level0_col4\" class=\"col_heading level0 col4\" >NPV</th>\n",
              "      <th id=\"T_4184e_level0_col5\" class=\"col_heading level0 col5\" >Support</th>\n",
              "    </tr>\n",
              "  </thead>\n",
              "  <tbody>\n",
              "    <tr>\n",
              "      <th id=\"T_4184e_level0_row0\" class=\"row_heading level0 row0\" >0</th>\n",
              "      <td id=\"T_4184e_row0_col0\" class=\"data row0 col0\" >No DR</td>\n",
              "      <td id=\"T_4184e_row0_col1\" class=\"data row0 col1\" >0.7748</td>\n",
              "      <td id=\"T_4184e_row0_col2\" class=\"data row0 col2\" >0.9764</td>\n",
              "      <td id=\"T_4184e_row0_col3\" class=\"data row0 col3\" >0.6316</td>\n",
              "      <td id=\"T_4184e_row0_col4\" class=\"data row0 col4\" >0.9536</td>\n",
              "      <td id=\"T_4184e_row0_col5\" class=\"data row0 col5\" >296</td>\n",
              "    </tr>\n",
              "    <tr>\n",
              "      <th id=\"T_4184e_level0_row1\" class=\"row_heading level0 row1\" >1</th>\n",
              "      <td id=\"T_4184e_row1_col0\" class=\"data row1 col0\" >Mild DR</td>\n",
              "      <td id=\"T_4184e_row1_col1\" class=\"data row1 col1\" >0.5128</td>\n",
              "      <td id=\"T_4184e_row1_col2\" class=\"data row1 col2\" >0.2222</td>\n",
              "      <td id=\"T_4184e_row1_col3\" class=\"data row1 col3\" >0.9562</td>\n",
              "      <td id=\"T_4184e_row1_col4\" class=\"data row1 col4\" >0.8557</td>\n",
              "      <td id=\"T_4184e_row1_col5\" class=\"data row1 col5\" >90</td>\n",
              "    </tr>\n",
              "    <tr>\n",
              "      <th id=\"T_4184e_level0_row2\" class=\"row_heading level0 row2\" >2</th>\n",
              "      <td id=\"T_4184e_row2_col0\" class=\"data row2 col0\" >Moderate DR</td>\n",
              "      <td id=\"T_4184e_row2_col1\" class=\"data row2 col1\" >0.7831</td>\n",
              "      <td id=\"T_4184e_row2_col2\" class=\"data row2 col2\" >0.5963</td>\n",
              "      <td id=\"T_4184e_row2_col3\" class=\"data row2 col3\" >0.9566</td>\n",
              "      <td id=\"T_4184e_row2_col4\" class=\"data row2 col4\" >0.9002</td>\n",
              "      <td id=\"T_4184e_row2_col5\" class=\"data row2 col5\" >109</td>\n",
              "    </tr>\n",
              "    <tr>\n",
              "      <th id=\"T_4184e_level0_row3\" class=\"row_heading level0 row3\" >3</th>\n",
              "      <td id=\"T_4184e_row3_col0\" class=\"data row3 col0\" >Severe DR</td>\n",
              "      <td id=\"T_4184e_row3_col1\" class=\"data row3 col1\" >0.6000</td>\n",
              "      <td id=\"T_4184e_row3_col2\" class=\"data row3 col2\" >0.7143</td>\n",
              "      <td id=\"T_4184e_row3_col3\" class=\"data row3 col3\" >0.9801</td>\n",
              "      <td id=\"T_4184e_row3_col4\" class=\"data row3 col4\" >0.9880</td>\n",
              "      <td id=\"T_4184e_row3_col5\" class=\"data row3 col5\" >21</td>\n",
              "    </tr>\n",
              "    <tr>\n",
              "      <th id=\"T_4184e_level0_row4\" class=\"row_heading level0 row4\" >4</th>\n",
              "      <td id=\"T_4184e_row4_col0\" class=\"data row4 col0\" >Proliferative DR</td>\n",
              "      <td id=\"T_4184e_row4_col1\" class=\"data row4 col1\" >0.7500</td>\n",
              "      <td id=\"T_4184e_row4_col2\" class=\"data row4 col2\" >0.3750</td>\n",
              "      <td id=\"T_4184e_row4_col3\" class=\"data row4 col3\" >0.9981</td>\n",
              "      <td id=\"T_4184e_row4_col4\" class=\"data row4 col4\" >0.9904</td>\n",
              "      <td id=\"T_4184e_row4_col5\" class=\"data row4 col5\" >8</td>\n",
              "    </tr>\n",
              "  </tbody>\n",
              "</table>\n"
            ],
            "text/plain": [
              "<pandas.io.formats.style.Styler at 0x154a0b79af0>"
            ]
          },
          "metadata": {},
          "output_type": "display_data"
        },
        {
          "name": "stdout",
          "output_type": "stream",
          "text": [
            "\n",
            "======================================================================\n",
            "                           OVERALL METRICS                            \n",
            "======================================================================\n"
          ]
        },
        {
          "data": {
            "text/html": [
              "<style type=\"text/css\">\n",
              "#T_62770 th {\n",
              "  text-align: center;\n",
              "}\n",
              "#T_62770 caption {\n",
              "  font-size: 1.2em;\n",
              "}\n",
              "#T_62770_row0_col0, #T_62770_row0_col1, #T_62770_row0_col2, #T_62770_row0_col3, #T_62770_row0_col4, #T_62770_row0_col5, #T_62770_row0_col6, #T_62770_row0_col7 {\n",
              "  text-align: center;\n",
              "}\n",
              "</style>\n",
              "<table id=\"T_62770\">\n",
              "  <thead>\n",
              "    <tr>\n",
              "      <th class=\"blank level0\" >&nbsp;</th>\n",
              "      <th id=\"T_62770_level0_col0\" class=\"col_heading level0 col0\" >Class</th>\n",
              "      <th id=\"T_62770_level0_col1\" class=\"col_heading level0 col1\" >Accuracy</th>\n",
              "      <th id=\"T_62770_level0_col2\" class=\"col_heading level0 col2\" >Weighted Precision</th>\n",
              "      <th id=\"T_62770_level0_col3\" class=\"col_heading level0 col3\" >Weighted Recall</th>\n",
              "      <th id=\"T_62770_level0_col4\" class=\"col_heading level0 col4\" >Weighted F1</th>\n",
              "      <th id=\"T_62770_level0_col5\" class=\"col_heading level0 col5\" >Macro Precision</th>\n",
              "      <th id=\"T_62770_level0_col6\" class=\"col_heading level0 col6\" >Macro Recall</th>\n",
              "      <th id=\"T_62770_level0_col7\" class=\"col_heading level0 col7\" >AUROC (OvR)</th>\n",
              "    </tr>\n",
              "  </thead>\n",
              "  <tbody>\n",
              "    <tr>\n",
              "      <th id=\"T_62770_level0_row0\" class=\"row_heading level0 row0\" >0</th>\n",
              "      <td id=\"T_62770_row0_col0\" class=\"data row0 col0\" >Overall</td>\n",
              "      <td id=\"T_62770_row0_col1\" class=\"data row0 col1\" >0.7481</td>\n",
              "      <td id=\"T_62770_row0_col2\" class=\"data row0 col2\" >0.7200</td>\n",
              "      <td id=\"T_62770_row0_col3\" class=\"data row0 col3\" >0.7481</td>\n",
              "      <td id=\"T_62770_row0_col4\" class=\"data row0 col4\" >0.7200</td>\n",
              "      <td id=\"T_62770_row0_col5\" class=\"data row0 col5\" >0.6841</td>\n",
              "      <td id=\"T_62770_row0_col6\" class=\"data row0 col6\" >0.5768</td>\n",
              "      <td id=\"T_62770_row0_col7\" class=\"data row0 col7\" >0.8932</td>\n",
              "    </tr>\n",
              "  </tbody>\n",
              "</table>\n"
            ],
            "text/plain": [
              "<pandas.io.formats.style.Styler at 0x154a0b79af0>"
            ]
          },
          "metadata": {},
          "output_type": "display_data"
        }
      ],
      "source": [
        "import numpy as np\n",
        "import pandas as pd\n",
        "from collections import OrderedDict\n",
        "\n",
        "# Confusion Matrix from fine-tuned results\n",
        "conf_matrix = np.array([\n",
        "    [289, 7, 0, 0, 0],\n",
        "    [60, 20, 10, 0, 0],\n",
        "    [24, 12, 65, 7, 1],\n",
        "    [0, 0, 6, 15, 0],\n",
        "    [0, 0, 2, 3, 3]\n",
        "])\n",
        "\n",
        "# Class targets\n",
        "targets = OrderedDict([\n",
        "    (\"No DR\", 0),\n",
        "    (\"Mild DR\", 1),\n",
        "    (\"Moderate DR\", 2),\n",
        "    (\"Severe DR\", 3),\n",
        "    (\"Proliferative DR\", 4)\n",
        "])\n",
        "\n",
        "def calculate_metrics(conf_matrix, targets):\n",
        "    metrics = []\n",
        "    total = conf_matrix.sum()\n",
        "    \n",
        "    for name, idx in targets.items():\n",
        "        TP = conf_matrix[idx, idx]\n",
        "        FP = conf_matrix[:, idx].sum() - TP\n",
        "        FN = conf_matrix[idx, :].sum() - TP\n",
        "        TN = total - (TP + FP + FN)\n",
        "        \n",
        "        metrics.append({\n",
        "            'Class': name,\n",
        "            'Precision': f\"{TP/(TP+FP):.4f}\" if (TP+FP) > 0 else \"0.0000\",\n",
        "            'Recall': f\"{TP/(TP+FN):.4f}\" if (TP+FN) > 0 else \"0.0000\",\n",
        "            'Specificity': f\"{TN/(TN+FP):.4f}\" if (TN+FP) > 0 else \"0.0000\",\n",
        "            'NPV': f\"{TN/(TN+FN):.4f}\" if (TN+FN) > 0 else \"0.0000\",\n",
        "            'Support': conf_matrix[idx, :].sum()\n",
        "        })\n",
        "    \n",
        "    accuracy = np.trace(conf_matrix) / total\n",
        "    macro_precision = np.mean([float(m['Precision']) for m in metrics])\n",
        "    macro_recall = np.mean([float(m['Recall']) for m in metrics])\n",
        "    \n",
        "    overall_metrics = pd.DataFrame({\n",
        "        'Class': ['Overall'],\n",
        "        'Accuracy': [f\"{accuracy:.4f}\"],\n",
        "        'Weighted Precision': [\"0.7200\"],  # From classification report\n",
        "        'Weighted Recall': [\"0.7481\"],    # From classification report\n",
        "        'Weighted F1': [\"0.7200\"],        # From classification report\n",
        "        'Macro Precision': [f\"{macro_precision:.4f}\"],\n",
        "        'Macro Recall': [f\"{macro_recall:.4f}\"],\n",
        "        'AUROC (OvR)': [\"0.8932\"]         # Provided value\n",
        "    })\n",
        "    \n",
        "    return pd.DataFrame(metrics), overall_metrics\n",
        "\n",
        "class_metrics, overall_metrics = calculate_metrics(conf_matrix, targets)\n",
        "\n",
        "def style_metrics(df):\n",
        "    return df.style \\\n",
        "        .set_properties(**{'text-align': 'center'}) \\\n",
        "        .set_table_styles([\n",
        "            {'selector': 'th', 'props': [('text-align', 'center')]},\n",
        "            {'selector': 'caption', 'props': [('font-size', '1.2em')]}\n",
        "        ]) \\\n",
        "        .format(precision=4)\n",
        "\n",
        "# Display results\n",
        "print(\"=\"*70)\n",
        "print(\"CLASSIFICATION METRICS (BY CLASS)\".center(70))\n",
        "print(\"=\"*70)\n",
        "display(style_metrics(class_metrics))\n",
        "\n",
        "print(\"\\n\" + \"=\"*70)\n",
        "print(\"OVERALL METRICS\".center(70))\n",
        "print(\"=\"*70)\n",
        "display(style_metrics(overall_metrics))"
      ]
    }
  ],
  "metadata": {
    "accelerator": "GPU",
    "colab": {
      "gpuType": "L4",
      "machine_shape": "hm",
      "provenance": []
    },
    "kernelspec": {
      "display_name": "Python 3",
      "name": "python3"
    },
    "language_info": {
      "codemirror_mode": {
        "name": "ipython",
        "version": 3
      },
      "file_extension": ".py",
      "mimetype": "text/x-python",
      "name": "python",
      "nbconvert_exporter": "python",
      "pygments_lexer": "ipython3",
      "version": "3.9.13"
    }
  },
  "nbformat": 4,
  "nbformat_minor": 0
}
